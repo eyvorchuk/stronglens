{
 "cells": [
  {
   "cell_type": "code",
   "execution_count": null,
   "metadata": {},
   "outputs": [],
   "source": [
    "from astropy.nddata.utils import Cutout2D\n",
    "from astropy.io import fits\n",
    "import fitsio\n",
    "from astropy import table\n",
    "import numpy as np\n",
    "import matplotlib.pyplot as plt\n",
    "from astropy.visualization import (ZScaleInterval, ImageNormalize)\n",
    "import tensorflow as tf\n",
    "from tensorflow import keras"
   ]
  },
  {
   "cell_type": "code",
   "execution_count": null,
   "metadata": {},
   "outputs": [],
   "source": [
    "r_image = fitsio.read(\"/home/eyvorch9/projects/rrg-kyi/astro/cfis/W3/CFIS.264.282.r.fits\")"
   ]
  },
  {
   "cell_type": "code",
   "execution_count": null,
   "metadata": {},
   "outputs": [],
   "source": [
    "image_cat = table.Table.read(\"/home/eyvorch9/projects/rrg-kyi/astro/cfis/W3/CFIS.264.282.r.cat\", format=\"ascii.sextractor\")"
   ]
  },
  {
   "cell_type": "code",
   "execution_count": null,
   "metadata": {},
   "outputs": [],
   "source": [
    "sources = []\n",
    "for (x, y) in zip(image_cat[\"X_IMAGE\"], image_cat[\"Y_IMAGE\"]): # Centers of sources\n",
    "    sources.append(Cutout2D(r_image, (x, y), 32, mode=\"partial\", fill_value=0).data)\n",
    "sources = np.array(sources)\n",
    "sources = sources.reshape(*sources.shape, 1)"
   ]
  },
  {
   "cell_type": "code",
   "execution_count": null,
   "metadata": {},
   "outputs": [],
   "source": [
    "np.shape(sources)"
   ]
  },
  {
   "cell_type": "code",
   "execution_count": null,
   "metadata": {},
   "outputs": [],
   "source": [
    "sources_norm = (sources - np.min(sources)) / (np.max(sources) - np.min(sources))"
   ]
  },
  {
   "cell_type": "code",
   "execution_count": null,
   "metadata": {},
   "outputs": [],
   "source": [
    "def create_autoencoder(shape):\n",
    "    num_out = 1\n",
    "    num_z = 128\n",
    "    input_img = keras.Input(shape)\n",
    "    #input_layer = keras.layers.Input(shape)\n",
    "    #base_model = keras.applications.ResNet50(include_top=False, weights=None, input_shape=shape)\n",
    "    #base_model.trainable = True\n",
    "    #model_out = base_model(input_layer, training=True)\n",
    "    model_out = keras.layers.GlobalAveragePooling2D()(input_img)\n",
    "        \n",
    "    x = keras.layers.Dense(512,activation=keras.layers.LeakyReLU(alpha=0.1))(model_out)\n",
    "    x = keras.layers.Dense(256,activation=keras.layers.LeakyReLU(alpha=0.1))(x)\n",
    "\n",
    "    #can probably do this in one layer\n",
    "    x_out = keras.layers.Dense(num_out)(x)\n",
    "    z_out = keras.layers.Dense(num_z)(x)\n",
    "    encoded = tf.concat([x_out, z_out], axis=1) \n",
    "\n",
    "    #TODO this decoder was made in a rush and will be changed in future\n",
    "\n",
    "    y = keras.layers.Dense(num_z + num_out)(encoded)\n",
    "    y = keras.layers.Dense(256,activation=keras.layers.LeakyReLU(alpha=0.1))(y)\n",
    "    y = keras.layers.Dense(512,activation=keras.layers.LeakyReLU(alpha=0.1))(y)\n",
    "    y = keras.layers.Dense(8192)(y)\n",
    "    y = keras.layers.Reshape([2,2,2048])(y)\n",
    "\n",
    "    y = keras.layers.Conv2DTranspose(512,3)(y)\n",
    "    y = keras.layers.Conv2DTranspose(128,5)(y)\n",
    "    y = keras.layers.Conv2DTranspose(64,9)(y)\n",
    "    decoded = keras.layers.Conv2DTranspose(1,17)(y)\n",
    "\n",
    "    return keras.Model(input_img, decoded)"
   ]
  },
  {
   "cell_type": "code",
   "execution_count": null,
   "metadata": {},
   "outputs": [],
   "source": [
    "autoencoder = create_autoencoder((sources.shape[1], sources.shape[2], 1))\n",
    "autoencoder.compile(optimizer='adam', loss=\"mse\")"
   ]
  },
  {
   "cell_type": "code",
   "execution_count": null,
   "metadata": {},
   "outputs": [],
   "source": [
    "autoencoder.summary()"
   ]
  },
  {
   "cell_type": "code",
   "execution_count": null,
   "metadata": {},
   "outputs": [],
   "source": [
    "history_01 = autoencoder.fit(sources_norm, sources_norm, epochs=10, validation_split=0.2)"
   ]
  },
  {
   "cell_type": "code",
   "execution_count": null,
   "metadata": {},
   "outputs": [],
   "source": []
  }
 ],
 "metadata": {
  "kernelspec": {
   "display_name": "Python 3",
   "language": "python",
   "name": "python3"
  },
  "language_info": {
   "codemirror_mode": {
    "name": "ipython",
    "version": 3
   },
   "file_extension": ".py",
   "mimetype": "text/x-python",
   "name": "python",
   "nbconvert_exporter": "python",
   "pygments_lexer": "ipython3",
   "version": "3.8.2"
  }
 },
 "nbformat": 4,
 "nbformat_minor": 4
}
