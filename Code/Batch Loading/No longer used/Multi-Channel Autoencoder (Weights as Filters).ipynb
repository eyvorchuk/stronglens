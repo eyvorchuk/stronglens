{
 "cells": [
  {
   "cell_type": "code",
   "execution_count": null,
   "metadata": {},
   "outputs": [],
   "source": [
    "import os\n",
    "import h5py\n",
    "import numpy as np\n",
    "import matplotlib.pyplot as plt\n",
    "from astropy.visualization import (ZScaleInterval, ImageNormalize)\n",
    "import tensorflow as tf\n",
    "from tensorflow import keras"
   ]
  },
  {
   "cell_type": "code",
   "execution_count": null,
   "metadata": {},
   "outputs": [],
   "source": [
    "cutout_dir = os.path.expandvars(\"$SLURM_TMPDIR\") + \"/\"\n",
    "image_dir = \"/home/eyvorch9/projects/rrg-kyi/astro/cfis/W3/\""
   ]
  },
  {
   "cell_type": "code",
   "execution_count": null,
   "metadata": {},
   "outputs": [],
   "source": [
    "hf = h5py.File(cutout_dir + \"cutouts_filtered.h5\", \"r\")"
   ]
  },
  {
   "cell_type": "code",
   "execution_count": null,
   "metadata": {},
   "outputs": [],
   "source": [
    "tile_list = open(image_dir + \"tiles.list\", \"r\")\n",
    "for tile in tile_list.readlines():\n",
    "    print(tile[:-1])\n",
    "tile_list.close()"
   ]
  },
  {
   "cell_type": "code",
   "execution_count": null,
   "metadata": {},
   "outputs": [],
   "source": [
    "# Only use tiles with all five channels\n",
    "\n",
    "tile_list = open(image_dir + \"tiles.list\", \"r\")\n",
    "tile_ids = []\n",
    "\n",
    "for tile in tile_list:\n",
    "    tile = tile[:-1] # Remove new line character\n",
    "    channels = tile.split(\" \")\n",
    "    if len(channels) == 5: # Order is u,g,r,i,z\n",
    "        tile_ids.append(channels[0][5:12]) # XXX.XXX id\n",
    "tile_list.close()"
   ]
  },
  {
   "cell_type": "code",
   "execution_count": null,
   "metadata": {},
   "outputs": [],
   "source": [
    "print(len(tile_ids))\n",
    "print(tile_ids[0])"
   ]
  },
  {
   "cell_type": "code",
   "execution_count": null,
   "metadata": {},
   "outputs": [],
   "source": [
    "batch_size = 128\n",
    "cutout_size = 64"
   ]
  },
  {
   "cell_type": "code",
   "execution_count": null,
   "metadata": {},
   "outputs": [],
   "source": [
    "def get_cutouts(tile_indices, batch_size, cutout_size):\n",
    "    b = 0 # counter for batch\n",
    "    sources = np.zeros((batch_size, cutout_size, cutout_size, 10))\n",
    "    while True:\n",
    "        for i in tile_indices:\n",
    "            img_group = hf.get(tile_ids[i] + \"/IMAGES\")\n",
    "            wt_group = hf.get(tile_ids[i] + \"/WEIGHTS\")\n",
    "            n_cutouts = len(img_group)\n",
    "            for n in range(n_cutouts):\n",
    "                sources[b,:,:,:5] = np.array(img_group.get(f\"c{n}\"))\n",
    "                sources[b,:,:,5:10] = np.array(wt_group.get(f\"c{n}\"))\n",
    "                b += 1\n",
    "                if b == batch_size:\n",
    "                    b = 0\n",
    "                    yield (sources, sources)"
   ]
  },
  {
   "cell_type": "code",
   "execution_count": null,
   "metadata": {},
   "outputs": [],
   "source": [
    "def train_autoencoder(model, train_indices, val_indices, batch_size, cutout_size):\n",
    "    n_cutouts_train = 0\n",
    "    for i in train_indices:\n",
    "        img_group = hf.get(tile_ids[i] + \"/IMAGES\")        \n",
    "        n_cutouts_train += len(img_group)\n",
    "    n_cutouts_val = 0\n",
    "    for i in val_indices:\n",
    "        img_group = hf.get(tile_ids[i] + \"/IMAGES\")        \n",
    "        n_cutouts_val += len(img_group)\n",
    "    train_steps = n_cutouts_train // batch_size\n",
    "    val_steps = n_cutouts_val // batch_size\n",
    "    history = model.fit(get_cutouts(train_indices, batch_size, cutout_size), \n",
    "                        epochs=15, steps_per_epoch=train_steps, \n",
    "                        validation_data=get_cutouts(val_indices, batch_size, cutout_size), \n",
    "                        validation_steps=val_steps)\n",
    "    return model, history"
   ]
  },
  {
   "cell_type": "code",
   "execution_count": null,
   "metadata": {},
   "outputs": [],
   "source": [
    "def create_autoencoder(shape):\n",
    "    input_img = keras.Input(shape=shape)\n",
    "    x = keras.layers.Conv2D(8, kernel_size=3, activation='relu', padding='same')(input_img)\n",
    "    x = keras.layers.MaxPooling2D((2,2), padding='same')(x)\n",
    "    encoded = keras.layers.Conv2D(16, kernel_size=3, activation='relu', padding='same')(x)\n",
    "\n",
    "    x = keras.layers.Conv2DTranspose(16, kernel_size=3, activation='relu', padding='same')(encoded)\n",
    "    x = keras.layers.UpSampling2D((2,2))(x)\n",
    "    x = keras.layers.Conv2DTranspose(8, kernel_size=3, activation='relu', padding='same')(x)\n",
    "    decoded = keras.layers.Conv2D(shape[2], (3,3), activation='linear', padding='same')(x)\n",
    "    \n",
    "    return keras.Model(input_img, decoded)"
   ]
  },
  {
   "cell_type": "code",
   "execution_count": null,
   "metadata": {},
   "outputs": [],
   "source": [
    "def custom_loss(y_true, y_pred):\n",
    "    weights = y_true[:,:,5:10]\n",
    "    return keras.losses.MSE(tf.math.multiply(y_true[:,:,:5],tf.math.sqrt(weights)), \n",
    "                            tf.math.multiply(y_pred[:,:,:5],tf.math.sqrt(weights)))"
   ]
  },
  {
   "cell_type": "code",
   "execution_count": null,
   "metadata": {},
   "outputs": [],
   "source": [
    "train_indices = range(5)\n",
    "val_indices = [5]"
   ]
  },
  {
   "cell_type": "code",
   "execution_count": null,
   "metadata": {},
   "outputs": [],
   "source": [
    "autoencoder = create_autoencoder((cutout_size, cutout_size, 10))\n",
    "autoencoder.compile(optimizer='adam', loss=custom_loss)"
   ]
  },
  {
   "cell_type": "code",
   "execution_count": null,
   "metadata": {},
   "outputs": [],
   "source": [
    "autoencoder.summary()"
   ]
  },
  {
   "cell_type": "code",
   "execution_count": null,
   "metadata": {},
   "outputs": [],
   "source": [
    "(autoencoder, history) = train_autoencoder(autoencoder, train_indices, val_indices, batch_size, cutout_size)"
   ]
  },
  {
   "cell_type": "code",
   "execution_count": null,
   "metadata": {},
   "outputs": [],
   "source": [
    "def plot_loss_curves(history):\n",
    "    plt.plot(history.history[\"loss\"], color=\"g\", label=\"Training\")\n",
    "    plt.plot(history.history[\"val_loss\"], color=\"b\", label=\"Validation\")\n",
    "    plt.title(\"Loss Curves for Training/Validation Sets\")\n",
    "    plt.xlabel(\"Epoch\")\n",
    "    plt.ylabel(\"Loss\")\n",
    "    plt.legend()"
   ]
  },
  {
   "cell_type": "code",
   "execution_count": null,
   "metadata": {},
   "outputs": [],
   "source": [
    "plot_loss_curves(history)"
   ]
  },
  {
   "cell_type": "code",
   "execution_count": null,
   "metadata": {},
   "outputs": [],
   "source": [
    "def get_test_cutouts(index, n_cutouts, cutout_size, start=0):\n",
    "    n = 0\n",
    "    sources = np.zeros((n_cutouts, cutout_size, cutout_size, 5))\n",
    "    img_group = hf.get(tile_ids[index] + \"/IMAGES\")\n",
    "    wt_group = hf.get(tile_ids[index] + \"/WEIGHTS\")\n",
    "    for i in range(start, len(img_group)):\n",
    "        sources[n,:,:,:5] = np.array(img_group.get(f\"c{i}\"))\n",
    "        sources[n,:,:,5:10] = np.array(wt_group.get(f\"c{i}\"))\n",
    "        n += 1\n",
    "        if n == n_cutouts:\n",
    "            return sources"
   ]
  },
  {
   "cell_type": "code",
   "execution_count": null,
   "metadata": {},
   "outputs": [],
   "source": [
    "test_index = 6\n",
    "sources_test = get_test_cutouts(test_index, 50, cutout_size)"
   ]
  },
  {
   "cell_type": "code",
   "execution_count": null,
   "metadata": {},
   "outputs": [],
   "source": [
    "decoded_imgs = autoencoder.predict(sources_test)"
   ]
  },
  {
   "cell_type": "code",
   "execution_count": null,
   "metadata": {},
   "outputs": [],
   "source": [
    "def plot_images(images, figname, start=0):\n",
    "    fig, axes = plt.subplots(1,5, figsize=(14,8))\n",
    "    channels = [\"CFIS u\", \"PS1 g\", \"CFIS r\", \"PS1 i\", \"PS1 z\"]\n",
    "    for col in range(5):\n",
    "        norm = ImageNormalize(images[start,:,:,col], interval=ZScaleInterval())\n",
    "        axes[col].imshow(images[start,:,:,col], norm=norm)\n",
    "        axes[col].set_title(channels[col])"
   ]
  },
  {
   "cell_type": "code",
   "execution_count": null,
   "metadata": {},
   "outputs": [],
   "source": [
    "plot_images(sources_test, start=5)"
   ]
  },
  {
   "cell_type": "code",
   "execution_count": null,
   "metadata": {},
   "outputs": [],
   "source": [
    "plot_images(decoded_imgs, start=5)"
   ]
  }
 ],
 "metadata": {
  "kernelspec": {
   "display_name": "Python 3",
   "language": "python",
   "name": "python3"
  },
  "language_info": {
   "codemirror_mode": {
    "name": "ipython",
    "version": 3
   },
   "file_extension": ".py",
   "mimetype": "text/x-python",
   "name": "python",
   "nbconvert_exporter": "python",
   "pygments_lexer": "ipython3",
   "version": "3.8.2"
  }
 },
 "nbformat": 4,
 "nbformat_minor": 4
}
