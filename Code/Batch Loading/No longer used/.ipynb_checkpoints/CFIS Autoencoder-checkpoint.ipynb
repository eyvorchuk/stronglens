{
 "cells": [
  {
   "cell_type": "code",
   "execution_count": null,
   "metadata": {},
   "outputs": [],
   "source": [
    "from astropy.nddata.utils import Cutout2D\n",
    "from esutil import wcsutil\n",
    "from astropy.io import fits\n",
    "from astropy import table\n",
    "import numpy as np\n",
    "import matplotlib.pyplot as plt\n",
    "from astropy.visualization import (ZScaleInterval, ImageNormalize)\n",
    "from tensorflow import keras"
   ]
  },
  {
   "cell_type": "markdown",
   "metadata": {},
   "source": [
    "# Store filepaths"
   ]
  },
  {
   "cell_type": "code",
   "execution_count": null,
   "metadata": {},
   "outputs": [],
   "source": [
    "image_dir = \"/home/eyvorch9/projects/rrg-kyi/astro/cfis/W3/\""
   ]
  },
  {
   "cell_type": "code",
   "execution_count": null,
   "metadata": {},
   "outputs": [],
   "source": [
    "tile_list = open(image_dir + \"tiles.list\", \"r\")\n",
    "for tile in tile_list.readlines():\n",
    "    print(tile[:-1])\n",
    "tile_list.close()"
   ]
  },
  {
   "cell_type": "code",
   "execution_count": null,
   "metadata": {},
   "outputs": [],
   "source": [
    "tile_list = open(image_dir + \"tiles.list\", \"r\")\n",
    "\n",
    "r_images = []\n",
    "r_weights = []\n",
    "cats = []\n",
    "\n",
    "for tile in tile_list:\n",
    "    tile = tile[:-1] # Remove new line character\n",
    "    channels = tile.split(\" \")\n",
    "    for c in channels:\n",
    "        if len(c) == 0: # Line is blank space\n",
    "            continue\n",
    "        if c[-1] == \"r\": # Tile has red channel\n",
    "            r_images.append(image_dir + c + \".fits\")\n",
    "            r_weights.append(image_dir + c + \".weight.fits.fz\")\n",
    "            cats.append(image_dir + c + \".cat\")\n",
    "            break\n",
    "tile_list.close()"
   ]
  },
  {
   "cell_type": "code",
   "execution_count": null,
   "metadata": {},
   "outputs": [],
   "source": [
    "print(len(r_images))\n",
    "print(len(r_weights))\n",
    "print(len(cats))"
   ]
  },
  {
   "cell_type": "markdown",
   "metadata": {},
   "source": [
    "# Create and train autoencoder"
   ]
  },
  {
   "cell_type": "code",
   "execution_count": null,
   "metadata": {},
   "outputs": [],
   "source": [
    "def generate_cutouts(file_indices, batch_size, cutout_size):\n",
    "    n = 0\n",
    "    sources = np.zeros((batch_size, cutout_size, cutout_size, 1))\n",
    "    while True:\n",
    "        for i in file_indices:\n",
    "            r_image = fits.open(r_images[i], memmap=True)\n",
    "            r_weight = fits.open(r_weights[i], memmap=True)\n",
    "\n",
    "            cat = table.Table.read(cats[i], format=\"ascii.sextractor\")\n",
    "            for (x, y) in zip(cat[\"X_IMAGE\"], cat[\"Y_IMAGE\"]):\n",
    "                r_cutout = Cutout2D(r_image[0].data, (x, y), cutout_size, mode=\"partial\", fill_value=0).data\n",
    "                r_weight_cutout = Cutout2D(r_weight[1].data, (x, y), cutout_size, mode=\"partial\", fill_value=0).data\n",
    "                \n",
    "                r_lower = np.percentile(r_cutout, 1)\n",
    "                r_upper = np.percentile(r_cutout, 99)\n",
    "                sources[n,:,:,0] = (r_cutout - np.min(cutout)) / (r_upper - r_lower)\n",
    "                weights[n,:,:,0] = (r_weight_cutout - np.min(r_weight_cutout)) / (r_upper - r_lower)\n",
    "                \n",
    "                n += 1\n",
    "                if n == batch_size:\n",
    "                    r_image.close()\n",
    "                    r_weight.close()\n",
    "                    \n",
    "                    n = 0\n",
    "                    yield (sources, sources)\n",
    "                    \n",
    "                    r_image = fits.open(r_images[i], memmap=True)\n",
    "                    r_weight = fits.open(r_weights[i], memmap=True)\n",
    "\n",
    "            r_image.close()\n",
    "            r_weight.close()"
   ]
  },
  {
   "cell_type": "code",
   "execution_count": null,
   "metadata": {},
   "outputs": [],
   "source": [
    "def train_autoencoder(model, cat_train_indices, cat_val_indices, batch_size, cutout_size):\n",
    "    n_cutouts_train = 0\n",
    "    for i in cat_train_indices:\n",
    "        image_cat = table.Table.read(cats[i], format=\"ascii.sextractor\")\n",
    "        n_cutouts_train += len(image_cat)\n",
    "    n_cutouts_val = 0\n",
    "    for i in cat_val_indices:\n",
    "        image_cat = table.Table.read(cats[i], format=\"ascii.sextractor\")\n",
    "        n_cutouts_val += len(image_cat)\n",
    "\n",
    "    train_steps = n_cutouts_train // batch_size\n",
    "    val_steps = n_cutouts_val // batch_size\n",
    "    history = model.fit(generate_cutouts(cat_train_indices, batch_size, cutout_size), \n",
    "                        epochs=5, steps_per_epoch=train_steps, \n",
    "                        validation_data=generate_cutouts(cat_val_indices, batch_size, cutout_size), \n",
    "                        validation_steps=val_steps)\n",
    "    return (model, history)"
   ]
  },
  {
   "cell_type": "markdown",
   "metadata": {},
   "source": [
    "## Autoencoder with pooling layers"
   ]
  },
  {
   "cell_type": "code",
   "execution_count": null,
   "metadata": {},
   "outputs": [],
   "source": [
    "def create_autoencoder1(shape):\n",
    "    input_img = keras.Input(shape=shape)\n",
    "    x = keras.layers.Conv2D(16, kernel_size=3, activation='relu', padding='same')(input_img)\n",
    "    x = keras.layers.MaxPooling2D((2,2), padding='same')(x)\n",
    "    x = keras.layers.Conv2D(32, kernel_size=3, activation='relu', padding='same')(x)\n",
    "    x = keras.layers.MaxPooling2D((2,2), padding='same')(x)\n",
    "    x = keras.layers.Flatten()(x)\n",
    "    x = keras.layers.Dense(128)(x)\n",
    "    encoded = keras.layers.Dense(1024)(x)\n",
    "    \n",
    "    x = keras.layers.Reshape((16,16,4))(encoded)\n",
    "    x = keras.layers.UpSampling2D((2,2))(x)\n",
    "    x = keras.layers.Conv2DTranspose(32, kernel_size=3, activation='relu', padding='same')(x)\n",
    "    x = keras.layers.UpSampling2D((2,2))(x)\n",
    "    x = keras.layers.Conv2DTranspose(16, kernel_size=3, activation='relu', padding='same')(x)\n",
    "    decoded = keras.layers.Conv2D(1, (3,3), activation='linear', padding='same')(x)\n",
    "    \n",
    "    return keras.Model(input_img, decoded)"
   ]
  },
  {
   "cell_type": "code",
   "execution_count": null,
   "metadata": {},
   "outputs": [],
   "source": [
    "def custom_loss(y_true, y_pred):\n",
    "    return keras.losses.MSE(y_true*np.sqrt(weights), y_pred*np.sqrt(weights))"
   ]
  },
  {
   "cell_type": "code",
   "execution_count": null,
   "metadata": {},
   "outputs": [],
   "source": [
    "cutout_size = 64\n",
    "autoencoder1 = create_autoencoder1((cutout_size, cutout_size, 1))\n",
    "#opt = keras.optimizers.Adam(learning_rate=0.005)\n",
    "autoencoder1.compile(optimizer=\"adam\", loss=custom_loss)"
   ]
  },
  {
   "cell_type": "code",
   "execution_count": null,
   "metadata": {},
   "outputs": [],
   "source": [
    "autoencoder1.summary()"
   ]
  },
  {
   "cell_type": "code",
   "execution_count": null,
   "metadata": {},
   "outputs": [],
   "source": [
    "cat_train_indices = [100]\n",
    "cat_val_indices = [0]\n",
    "batch_size = 32\n",
    "weights = np.zeros((batch_size, cutout_size, cutout_size, 1))\n",
    "(autoencoder1, history1) = train_autoencoder(autoencoder1, cat_train_indices, cat_val_indices, batch_size, cutout_size)"
   ]
  },
  {
   "cell_type": "code",
   "execution_count": null,
   "metadata": {},
   "outputs": [],
   "source": [
    "def plot_loss_curves(history):\n",
    "    plt.plot(history.history[\"loss\"], color=\"g\", label=\"Training\")\n",
    "    plt.plot(history.history[\"val_loss\"], color=\"b\", label=\"Validation\")\n",
    "    plt.title(\"Loss Curves for Training/Validation Sets\")\n",
    "    plt.xlabel(\"Epoch\")\n",
    "    plt.ylabel(\"Loss\")\n",
    "    plt.legend()"
   ]
  },
  {
   "cell_type": "code",
   "execution_count": null,
   "metadata": {},
   "outputs": [],
   "source": [
    "plot_loss_curves(history1)"
   ]
  },
  {
   "cell_type": "code",
   "execution_count": null,
   "metadata": {},
   "outputs": [],
   "source": [
    "def generate_test_cutouts(index, n_cutouts, cutout_size):\n",
    "    n = 0\n",
    "    sources = np.zeros((n_cutouts, cutout_size, cutout_size, 1))\n",
    "    r_image = fits.open(r_images[index], memmap=True)\n",
    "    cat = table.Table.read(cats[index], format=\"ascii.sextractor\")\n",
    "    for (x, y) in zip(cat[\"X_IMAGE\"], cat[\"Y_IMAGE\"]):\n",
    "        r_cutout = Cutout2D(r_image[0].data, (x, y), cutout_size, mode=\"partial\", fill_value=0).data\n",
    "        r_lower = np.percentile(r_cutout, 1)\n",
    "        r_upper = np.percentile(r_cutout, 99)\n",
    "        sources[n,:,:,0] = (r_cutout - np.min(r_cutout)) / (r_upper - r_lower)\n",
    "        n += 1\n",
    "        if n == n_cutouts:\n",
    "            r_image.close()\n",
    "            return sources"
   ]
  },
  {
   "cell_type": "code",
   "execution_count": null,
   "metadata": {},
   "outputs": [],
   "source": [
    "test_index = 4\n",
    "sources_test = generate_test_cutouts(test_index, 100, cutout_size)"
   ]
  },
  {
   "cell_type": "code",
   "execution_count": null,
   "metadata": {},
   "outputs": [],
   "source": [
    "decoded_imgs1 = autoencoder1.predict(sources_test)"
   ]
  },
  {
   "cell_type": "code",
   "execution_count": null,
   "metadata": {},
   "outputs": [],
   "source": [
    "def plot_images(images):\n",
    "    fig, axes = plt.subplots(3,3, figsize=(8,8))\n",
    "    i = 0\n",
    "    for row in range(3):\n",
    "        for col in range(3):\n",
    "            norm = ImageNormalize(images[i], interval=ZScaleInterval())\n",
    "            axes[row][col].imshow(images[i], norm=norm)\n",
    "            i += 1"
   ]
  },
  {
   "cell_type": "code",
   "execution_count": null,
   "metadata": {},
   "outputs": [],
   "source": [
    "plot_images(sources_test)"
   ]
  },
  {
   "cell_type": "code",
   "execution_count": null,
   "metadata": {},
   "outputs": [],
   "source": [
    "plot_images(decoded_imgs1)"
   ]
  },
  {
   "cell_type": "code",
   "execution_count": null,
   "metadata": {},
   "outputs": [],
   "source": [
    "mse = keras.losses.MeanSquaredError()\n",
    "mse(sources_test, decoded_imgs1).numpy()"
   ]
  },
  {
   "cell_type": "markdown",
   "metadata": {},
   "source": [
    "## Fully convolutional autoencoder"
   ]
  },
  {
   "cell_type": "code",
   "execution_count": null,
   "metadata": {},
   "outputs": [],
   "source": [
    "def create_autoencoder2(shape):\n",
    "    input_img = keras.Input(shape=shape)\n",
    "    x = keras.layers.Conv2D(8, kernel_size=3, activation='relu', padding='same')(input_img)\n",
    "    x = keras.layers.MaxPooling2D((2,2), padding='same')(x)\n",
    "    encoded = keras.layers.Conv2D(16, kernel_size=3, activation='relu', padding='same')(x)\n",
    "\n",
    "    x = keras.layers.Conv2DTranspose(16, kernel_size=3, activation='relu', padding='same')(encoded)\n",
    "    x = keras.layers.UpSampling2D((2,2))(x)\n",
    "    x = keras.layers.Conv2DTranspose(8, kernel_size=3, activation='relu', padding='same')(x)\n",
    "    decoded = keras.layers.Conv2D(1, (3,3), activation='linear', padding='same')(x)\n",
    "    \n",
    "    return keras.Model(input_img, decoded)"
   ]
  },
  {
   "cell_type": "code",
   "execution_count": null,
   "metadata": {},
   "outputs": [],
   "source": [
    "autoencoder2 = create_autoencoder2((cutout_size, cutout_size, 1))\n",
    "#opt = keras.optimizers.Adam(learning_rate=0.005)\n",
    "autoencoder2.compile(optimizer=\"adam\", loss=custom_loss)"
   ]
  },
  {
   "cell_type": "code",
   "execution_count": null,
   "metadata": {},
   "outputs": [],
   "source": [
    "autoencoder2.summary()"
   ]
  },
  {
   "cell_type": "code",
   "execution_count": null,
   "metadata": {},
   "outputs": [],
   "source": [
    "(autoencoder2, history2) = train_autoencoder(autoencoder2, cat_train_indices, cat_val_indices, batch_size, cutout_size)"
   ]
  },
  {
   "cell_type": "code",
   "execution_count": null,
   "metadata": {},
   "outputs": [],
   "source": [
    "plot_loss_curves(history2)"
   ]
  },
  {
   "cell_type": "code",
   "execution_count": null,
   "metadata": {},
   "outputs": [],
   "source": [
    "decoded_imgs2 = autoencoder2.predict(sources_test)"
   ]
  },
  {
   "cell_type": "code",
   "execution_count": null,
   "metadata": {},
   "outputs": [],
   "source": [
    "plot_images(sources_test)"
   ]
  },
  {
   "cell_type": "code",
   "execution_count": null,
   "metadata": {},
   "outputs": [],
   "source": [
    "plot_images(decoded_imgs2)"
   ]
  },
  {
   "cell_type": "code",
   "execution_count": null,
   "metadata": {},
   "outputs": [],
   "source": [
    "mse(sources_test, decoded_imgs2).numpy()"
   ]
  },
  {
   "cell_type": "code",
   "execution_count": null,
   "metadata": {},
   "outputs": [],
   "source": []
  }
 ],
 "metadata": {
  "kernelspec": {
   "display_name": "Python 3",
   "language": "python",
   "name": "python3"
  },
  "language_info": {
   "codemirror_mode": {
    "name": "ipython",
    "version": 3
   },
   "file_extension": ".py",
   "mimetype": "text/x-python",
   "name": "python",
   "nbconvert_exporter": "python",
   "pygments_lexer": "ipython3",
   "version": "3.8.2"
  }
 },
 "nbformat": 4,
 "nbformat_minor": 4
}
