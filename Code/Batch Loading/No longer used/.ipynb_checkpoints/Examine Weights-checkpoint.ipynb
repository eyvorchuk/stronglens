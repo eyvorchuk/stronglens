{
 "cells": [
  {
   "cell_type": "code",
   "execution_count": null,
   "metadata": {},
   "outputs": [],
   "source": [
    "import os\n",
    "import h5py\n",
    "import shutil\n",
    "from astropy.nddata.utils import Cutout2D\n",
    "from astropy.io import fits\n",
    "from astropy import table\n",
    "import numpy as np\n",
    "import matplotlib.pyplot as plt\n",
    "from astropy.visualization import (ZScaleInterval, ImageNormalize)"
   ]
  },
  {
   "cell_type": "code",
   "execution_count": null,
   "metadata": {},
   "outputs": [],
   "source": [
    "image_dir = \"/home/eyvorch9/projects/rrg-kyi/astro/cfis/W3/\"\n",
    "tile = \"186.270\""
   ]
  },
  {
   "cell_type": "code",
   "execution_count": null,
   "metadata": {},
   "outputs": [],
   "source": [
    "u_image = fits.open(image_dir + f\"CFIS.{tile}.u.fits\", memmap=True)\n",
    "g_image = fits.open(image_dir + f\"PS1.{tile}.g.fits\", memmap=True)\n",
    "r_image = fits.open(image_dir + f\"CFIS.{tile}.r.fits\", memmap=True)\n",
    "i_image = fits.open(image_dir + f\"PS1.{tile}.i.fits\", memmap=True)\n",
    "z_image = fits.open(image_dir + f\"PS1.{tile}.z.fits\", memmap=True)\n",
    "\n",
    "u_image_data = u_image[0].data\n",
    "g_image_data = g_image[0].data\n",
    "r_image_data = r_image[0].data\n",
    "i_image_data = i_image[0].data\n",
    "z_image_data = z_image[0].data\n",
    "\n",
    "u_image.close()\n",
    "g_image.close()\n",
    "r_image.close()\n",
    "i_image.close()\n",
    "z_image.close()"
   ]
  },
  {
   "cell_type": "code",
   "execution_count": null,
   "metadata": {},
   "outputs": [],
   "source": [
    "u_weight = fits.open(image_dir + f\"CFIS.{tile}.u.weight.fits.fz\", memmap=True)\n",
    "g_weight = fits.open(image_dir + f\"PS1.{tile}.g.wt.fits\", memmap=True)\n",
    "r_weight = fits.open(image_dir + f\"CFIS.{tile}.r.weight.fits.fz\", memmap=True)\n",
    "i_weight = fits.open(image_dir + f\"PS1.{tile}.i.wt.fits\", memmap=True)\n",
    "z_weight = fits.open(image_dir + f\"PS1.{tile}.z.wt.fits\", memmap=True)\n",
    "\n",
    "u_weight_data = u_weight[1].data\n",
    "g_weight_data = g_weight[0].data\n",
    "r_weight_data = r_weight[1].data\n",
    "i_weight_data = i_weight[0].data\n",
    "z_weight_data = z_weight[0].data\n",
    "\n",
    "u_weight.close()\n",
    "g_weight.close()\n",
    "r_weight.close()\n",
    "i_weight.close()\n",
    "z_weight.close()"
   ]
  },
  {
   "cell_type": "code",
   "execution_count": null,
   "metadata": {},
   "outputs": [],
   "source": [
    "np.count_nonzero(np.isnan(g_weight_data))"
   ]
  },
  {
   "cell_type": "code",
   "execution_count": null,
   "metadata": {},
   "outputs": [],
   "source": [
    "g_weight_data[np.isnan(g_weight_data)] = 0"
   ]
  },
  {
   "cell_type": "code",
   "execution_count": null,
   "metadata": {},
   "outputs": [],
   "source": [
    "channels = [\"CFIS u\", \"PS1 g\", \"CFIS r\", \"PS1 i\", \"PS1 z\"]\n",
    "plot_tiles = [u_image_data, g_image_data, r_image_data, i_image_data, z_image_data]\n",
    "fig, axes = plt.subplots(1,len(channels), figsize=(23,15))\n",
    "for i in range(len(channels)):\n",
    "    norm = ImageNormalize(plot_tiles[i], interval=ZScaleInterval())\n",
    "    axes[i].imshow(plot_tiles[i], norm=norm)\n",
    "    axes[i].set_title(channels[i])\n",
    "plt.savefig(f\"Plots/{tile}_tiles.png\")"
   ]
  },
  {
   "cell_type": "code",
   "execution_count": null,
   "metadata": {},
   "outputs": [],
   "source": [
    "channels = [\"CFIS u\", \"PS1 g\", \"CFIS r\", \"PS1 i\", \"PS1 z\"]\n",
    "plot_weights = [u_weight_data, g_weight_data, r_weight_data, i_weight_data, z_weight_data]\n",
    "fig, axes = plt.subplots(1,len(channels), figsize=(23,15))\n",
    "for i in range(len(channels)):\n",
    "    norm = ImageNormalize(plot_weights[i], interval=ZScaleInterval())\n",
    "    axes[i].imshow(plot_weights[i], norm=norm)\n",
    "    axes[i].set_title(channels[i])\n",
    "plt.savefig(f\"Plots/{tile}_weights.png\")"
   ]
  },
  {
   "cell_type": "code",
   "execution_count": null,
   "metadata": {},
   "outputs": [],
   "source": [
    "norm = ImageNormalize(g_weight_data, interval=ZScaleInterval())\n",
    "plt.imshow(g_weight_data, norm=norm)"
   ]
  },
  {
   "cell_type": "code",
   "execution_count": null,
   "metadata": {},
   "outputs": [],
   "source": [
    "print(\"Min weight: \" + str(np.min(g_weight_data)))\n",
    "print(\"Max weight: \" + str(np.max(g_weight_data)))"
   ]
  },
  {
   "cell_type": "code",
   "execution_count": null,
   "metadata": {},
   "outputs": [],
   "source": [
    "r_cat = table.Table.read(image_dir + \"CFIS.186.270.r.cat\", format=\"ascii.sextractor\")\n",
    "u_cat = table.Table.read(image_dir + \"CFIS.186.270.u.cat\", format=\"ascii.sextractor\")"
   ]
  },
  {
   "cell_type": "code",
   "execution_count": null,
   "metadata": {},
   "outputs": [],
   "source": [
    "r_cat"
   ]
  },
  {
   "cell_type": "code",
   "execution_count": null,
   "metadata": {},
   "outputs": [],
   "source": [
    "u_cat"
   ]
  },
  {
   "cell_type": "code",
   "execution_count": null,
   "metadata": {},
   "outputs": [],
   "source": []
  }
 ],
 "metadata": {
  "kernelspec": {
   "display_name": "Python 3",
   "language": "python",
   "name": "python3"
  },
  "language_info": {
   "codemirror_mode": {
    "name": "ipython",
    "version": 3
   },
   "file_extension": ".py",
   "mimetype": "text/x-python",
   "name": "python",
   "nbconvert_exporter": "python",
   "pygments_lexer": "ipython3",
   "version": "3.8.2"
  }
 },
 "nbformat": 4,
 "nbformat_minor": 4
}
