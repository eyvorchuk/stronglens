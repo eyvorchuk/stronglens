{
 "cells": [
  {
   "cell_type": "code",
   "execution_count": null,
   "metadata": {},
   "outputs": [],
   "source": [
    "import os\n",
    "import h5py\n",
    "import shutil\n",
    "import pandas as pd\n",
    "from astropy.nddata.utils import Cutout2D\n",
    "from astropy.io import fits\n",
    "from astropy import table\n",
    "import numpy as np\n",
    "import matplotlib.pyplot as plt\n",
    "from astropy.visualization import (ZScaleInterval, ImageNormalize)\n",
    "from astropy.visualization import make_lupton_rgb\n",
    "from collections import Counter\n",
    "from tensorflow import keras"
   ]
  },
  {
   "cell_type": "markdown",
   "metadata": {},
   "source": [
    "# Initialize hdf5 file"
   ]
  },
  {
   "cell_type": "code",
   "execution_count": null,
   "metadata": {},
   "outputs": [],
   "source": [
    "os.path.expandvars(\"$SLURM_TMPDIR\")"
   ]
  },
  {
   "cell_type": "code",
   "execution_count": null,
   "metadata": {},
   "outputs": [],
   "source": [
    "hf = h5py.File(\"labelled_cutouts_alt.h5\", \"r+\")\n",
    "hf.close()"
   ]
  },
  {
   "cell_type": "code",
   "execution_count": null,
   "metadata": {},
   "outputs": [],
   "source": [
    "src = os.path.expandvars(\"$SCRATCH\") + \"/labelled_cutouts_alt.h5\"\n",
    "dest = os.path.expandvars(\"$SLURM_TMPDIR\") + \"/\"\n",
    "shutil.copy2(src, dest)"
   ]
  },
  {
   "cell_type": "code",
   "execution_count": null,
   "metadata": {},
   "outputs": [],
   "source": [
    "dest = os.path.expandvars(\"$SLURM_TMPDIR\") + \"/\"\n",
    "hf = h5py.File(dest + \"labelled_cutouts_alt.h5\", \"r+\")"
   ]
  },
  {
   "cell_type": "code",
   "execution_count": null,
   "metadata": {},
   "outputs": [],
   "source": [
    "hf.close()"
   ]
  },
  {
   "cell_type": "code",
   "execution_count": null,
   "metadata": {},
   "outputs": [],
   "source": [
    "image_dir = \"/home/eyvorch9/projects/rrg-kyi/astro/cfis/W3/\"\n",
    "label_dir = \"labels/\""
   ]
  },
  {
   "cell_type": "code",
   "execution_count": null,
   "metadata": {},
   "outputs": [],
   "source": [
    "tile_file = open(image_dir + \"tiles_cand.list\", \"r\")\n",
    "tile_list = tile_file.readlines()\n",
    "for i in range(len(tile_list)):\n",
    "    tile_list[i] = tile_list[i][:-1] # Remove new line characters\n",
    "    print(tile_list[i])\n",
    "tile_file.close()"
   ]
  },
  {
   "cell_type": "code",
   "execution_count": null,
   "metadata": {},
   "outputs": [],
   "source": [
    "label_subdirs = [\"stronglensdb_confirmed_unige/\", \"stronglensdb_candidates_unige/\", \"canameras2020/\",\n",
    "                 \"huang2020a_grade_A/\", \"huang2020a_grade_B/\", \"huang2020a_grade_C/\", \n",
    "                 \"huang2020b_grade_A/\", \"huang2020b_grade_B/\", \"huang2020b_grade_C/\"]\n",
    "filters = [\"CFIS u/\", \"PS1 g/\", \"CFIS r/\", \"PS1 i/\", \"PS1 z/\"]\n",
    "filter_dict = {k:v for v,k in enumerate(filters)}"
   ]
  },
  {
   "cell_type": "code",
   "execution_count": null,
   "metadata": {},
   "outputs": [],
   "source": [
    "for label_subdir in label_subdirs:\n",
    "    for f in filters:\n",
    "        nlabels = 0\n",
    "        subdir = label_dir + label_subdir + f\n",
    "        for t in os.listdir(subdir):\n",
    "            df = pd.read_csv(subdir + t)\n",
    "            nlabels += len(df)\n",
    "        print(\"Number of labels in {}: {}\".format(subdir, nlabels))"
   ]
  },
  {
   "cell_type": "code",
   "execution_count": null,
   "metadata": {},
   "outputs": [],
   "source": [
    "!ls labels/stronglensdb_confirmed_unige/CFIS\\ u"
   ]
  },
  {
   "cell_type": "code",
   "execution_count": null,
   "metadata": {},
   "outputs": [],
   "source": [
    "!ls labels/stronglensdb_confirmed_unige/CFIS\\ r"
   ]
  },
  {
   "cell_type": "markdown",
   "metadata": {},
   "source": [
    "# Save labelled cutouts to hdf5 file"
   ]
  },
  {
   "cell_type": "code",
   "execution_count": null,
   "metadata": {},
   "outputs": [],
   "source": [
    "cutout_size = 128\n",
    "for label_subdir in label_subdirs[2:]:\n",
    "    for f in filters:\n",
    "        subdir = label_dir + label_subdir + f\n",
    "        for csv in os.listdir(subdir):\n",
    "            tile_id = csv[:7] # XXX.XXX id\n",
    "            img_group_name = label_subdir + tile_id + \"/\" + f + \"/IMAGES\"\n",
    "            wt_group_name = label_subdir + tile_id + \"/\" + f + \"/WEIGHTS\"\n",
    "            if img_group_name not in hf:\n",
    "                img_group = hf.create_group(img_group_name)\n",
    "                wt_group = hf.create_group(wt_group_name)\n",
    "            else:\n",
    "                img_group = hf[img_group_name]\n",
    "                wt_group = hf[wt_group_name]\n",
    "            tile_name = f.split(\" \")[0] + \".\" + tile_id + \".\" + f.split(\" \")[1][0]\n",
    "            if \"CFIS\" in f:\n",
    "                wt_name = \".weight.fits.fz\"\n",
    "                wt_index = 1\n",
    "            else:\n",
    "                wt_name = \".wt.fits\"\n",
    "                wt_index = 0\n",
    "            shutil.copy2(image_dir + tile_name + \".fits\", dest)\n",
    "            shutil.copy2(image_dir + tile_name + wt_name, dest)\n",
    "            img_fits = fits.open(dest + tile_name + \".fits\", memmap=True)\n",
    "            wt_fits = fits.open(dest + tile_name + wt_name, memmap=True)\n",
    "            \n",
    "            df = pd.read_csv(subdir + csv)\n",
    "            nlabels = len(df)\n",
    "            for n in range(nlabels):\n",
    "                x = df[\"x\"][n]\n",
    "                y = df[\"y\"][n]\n",
    "                img_cutout = Cutout2D(img_fits[0].data, (x, y), cutout_size, mode=\"partial\", fill_value=0).data\n",
    "                wt_cutout = Cutout2D(wt_fits[wt_index].data, (x, y), cutout_size, mode=\"partial\", fill_value=0).data\n",
    "                \n",
    "                img_lower = np.percentile(img_cutout, 1)\n",
    "                img_upper = np.percentile(img_cutout, 99)\n",
    "                if img_lower == img_upper:\n",
    "                    img_norm = np.zeros((cutout_size, cutout_size))\n",
    "                else:\n",
    "                    img_norm = (img_cutout - np.min(img_cutout)) / (img_upper - img_lower)\n",
    "\n",
    "                if (tile_id + str(n)) not in img_group:\n",
    "                    img_group.create_dataset(tile_id + str(n), data=img_norm)\n",
    "                    wt_group.create_dataset(tile_id + str(n), data=wt_cutout)\n",
    "\n",
    "            img_fits.close()\n",
    "            wt_fits.close()\n",
    "    print(f\"Finished {label_subdir}\")"
   ]
  },
  {
   "cell_type": "markdown",
   "metadata": {},
   "source": [
    "# Look at confirmed cutouts from random CFIS tile"
   ]
  },
  {
   "cell_type": "code",
   "execution_count": null,
   "metadata": {},
   "outputs": [],
   "source": [
    "subdir = label_dir + label_subdirs[0]\n",
    "u_tiles = os.listdir(subdir + filters[0])\n",
    "r_tiles = os.listdir(subdir + filters[1])\n",
    "tile_intersection = sorted(list(set(u_tiles) & set(r_tiles)))\n",
    "print(tile_intersection)\n",
    "print(len(tile_intersection))"
   ]
  },
  {
   "cell_type": "code",
   "execution_count": null,
   "metadata": {},
   "outputs": [],
   "source": [
    "tile = tile_intersection[26][:7]\n",
    "u_file = fits.open(image_dir + \"CFIS.{}.u.fits\".format(tile))\n",
    "r_file = fits.open(image_dir + \"CFIS.{}.r.fits\".format(tile))\n",
    "r_head = r_file[0].header\n",
    "u_head = u_file[0].header\n",
    "r_data = r_file[0].data\n",
    "u_data = u_file[0].data"
   ]
  },
  {
   "cell_type": "code",
   "execution_count": null,
   "metadata": {},
   "outputs": [],
   "source": [
    "tile"
   ]
  },
  {
   "cell_type": "code",
   "execution_count": null,
   "metadata": {},
   "outputs": [],
   "source": [
    "channels = [\"u\", \"r\"]\n",
    "plot_tiles = [u_data, r_data]\n",
    "fig, axes = plt.subplots(1,len(channels), figsize=(12,8))\n",
    "for i in range(len(channels)):\n",
    "    norm = ImageNormalize(plot_tiles[i], interval=ZScaleInterval())\n",
    "    axes[i].imshow(plot_tiles[i], norm=norm)\n",
    "    axes[i].set_title(channels[i])\n",
    "plt.savefig(\"Plots/{}_tiles.png\".format(tile))"
   ]
  },
  {
   "cell_type": "code",
   "execution_count": null,
   "metadata": {},
   "outputs": [],
   "source": [
    "r_wcs = WCS(r_head)\n",
    "u_wcs = WCS(u_head)\n",
    "r_df = pd.read_csv(subdir + \"CFIS r/{}_labels.csv\".format(tile))\n",
    "u_df = pd.read_csv(subdir + \"CFIS u/{}_labels.csv\".format(tile))"
   ]
  },
  {
   "cell_type": "code",
   "execution_count": null,
   "metadata": {},
   "outputs": [],
   "source": [
    "x,y = skycoord_to_pixel(SkyCoord(r_df[\"ra\"], r_df[\"dec\"], unit=\"deg\"), r_wcs)\n",
    "print((x,y))"
   ]
  },
  {
   "cell_type": "code",
   "execution_count": null,
   "metadata": {},
   "outputs": [],
   "source": [
    "r_cutout = Cutout2D(r_data, (x, y), cutout_size, mode=\"partial\", fill_value=0).data\n",
    "u_cutout = Cutout2D(u_data, (x, y), cutout_size, mode=\"partial\", fill_value=0).data"
   ]
  },
  {
   "cell_type": "code",
   "execution_count": null,
   "metadata": {},
   "outputs": [],
   "source": [
    "channels = [\"u\", \"r\"]\n",
    "plot_cutouts = [u_cutout, r_cutout]\n",
    "fig, axes = plt.subplots(1,len(channels), figsize=(12,8))\n",
    "for i in range(len(channels)):\n",
    "    norm = ImageNormalize(plot_cutouts[i], interval=ZScaleInterval())\n",
    "    axes[i].imshow(plot_cutouts[i], norm=norm)\n",
    "    axes[i].set_title(channels[i])\n",
    "plt.savefig(\"Plots/{}_labelled_cutouts.png\".format(tile))"
   ]
  },
  {
   "cell_type": "markdown",
   "metadata": {},
   "source": [
    "# Plot cutouts from each resource"
   ]
  },
  {
   "cell_type": "code",
   "execution_count": null,
   "metadata": {},
   "outputs": [],
   "source": [
    "def get_cutouts(label_subdir, reconstruct=False):\n",
    "    cutout_size = 128\n",
    "    n_cutouts = 0\n",
    "    for k in list(hf.get(label_subdir).keys()):\n",
    "        f = list(hf.get(label_subdir + k).keys())[0]\n",
    "        img_subgroup = hf.get(label_subdir + k + \"/\" + f + \"/IMAGES\")\n",
    "        n_cutouts += len(img_subgroup)\n",
    "       \n",
    "    plot_cutouts = np.zeros((n_cutouts, cutout_size, cutout_size, 3), dtype=int)\n",
    "    if \"confirmed\" in label_subdir:\n",
    "        types = []\n",
    "    n_tiles = len(list(hf.get(label_subdir).keys()))\n",
    "    n_plots = 0\n",
    "    tile_ids = list(hf.get(label_subdir).keys())\n",
    "    for n in range(n_tiles):\n",
    "        tile_id = tile_ids[n]\n",
    "        f = list(hf.get(label_subdir + tile_id).keys())[0]\n",
    "        df = pd.read_csv(label_dir + label_subdir + f + \"/\" + tile_id + \"_labels.csv\")\n",
    "        img_subgroup = hf.get(label_subdir + tile_id + \"/\" + f + \"/IMAGES\")\n",
    "        n_labels = len(img_subgroup)\n",
    "        for i in range(n_labels):\n",
    "            if \"confirmed\" in label_subdir:\n",
    "                types.append(df[\"type\"][i])\n",
    "            cutout = np.zeros((cutout_size, cutout_size, 5))\n",
    "            dataset_name = tile_id + str(i)\n",
    "            filts = [f + \"/\" for f in list(hf.get(label_subdir + tile_id).keys())]\n",
    "            filt_indices = [filter_dict.get(f) for f in filts]\n",
    "            for (j, ind) in enumerate(filt_indices):\n",
    "                cutout[:,:,ind] = hf.get(label_subdir + tile_id + \"/\" + filts[j] + \"IMAGES/\" + dataset_name)\n",
    "            if reconstruct:\n",
    "                cutout = autoencoder.predict(np.expand_dims(cutout, axis=0))[0]\n",
    "            if len(filt_indices) == 1:\n",
    "                if 2 in filt_indices: # red\n",
    "                    cutout_r = cutout[:,:,2]\n",
    "                    cutout_g = np.zeros((cutout_size, cutout_size))\n",
    "                    cutout_b = np.zeros((cutout_size, cutout_size))\n",
    "                elif 1 in filt_indices: # green\n",
    "                    cutout_r = np.zeros((cutout_size, cutout_size))\n",
    "                    cutout_g = cutout[:,:,1]\n",
    "                    cutout_b = np.zeros((cutout_size, cutout_size))\n",
    "                else:\n",
    "                    cutout_r = np.zeros((cutout_size, cutout_size))\n",
    "                    cutout_g = np.zeros((cutout_size, cutout_size))\n",
    "                    cutout_b = cutout[:,:,filt_indices[0]]\n",
    "                cutout_rgb = make_lupton_rgb(cutout_r, cutout_g, cutout_b, Q=10, stretch=3)\n",
    "            elif len(filt_indices) == 2:\n",
    "                if 2 in filt_indices: # red\n",
    "                    cutout_r = cutout[:,:,2]\n",
    "                else:\n",
    "                    cutout_r = cutout[:,:,filt_indices[0]]\n",
    "                if 1 in filt_indices: # green\n",
    "                    cutout_g = cutout[:,:,1]\n",
    "                else:\n",
    "                    cutout_g = cutout[:,:,filt_indices[1]]\n",
    "                cutout_b = np.zeros((cutout_size, cutout_size))\n",
    "                cutout_rgb = make_lupton_rgb(cutout_r, cutout_g, cutout_b, Q=10, stretch=3)\n",
    "            else:\n",
    "                if 2 in filt_indices:\n",
    "                    cutout_r = cutout[:,:,2]\n",
    "                else:\n",
    "                    cutout_r = cutout[:,:,filt_indices[0]]\n",
    "                if 1 in filt_indices:\n",
    "                    cutout_g = cutout[:,:,1]\n",
    "                else:\n",
    "                    cutout_g = cutout[:,:,filt_indices[1]]\n",
    "                if 3 in filt_indices: # i band\n",
    "                    cutout_b = cutout[:,:,3]\n",
    "                else:\n",
    "                    cutout_b = cutout[:,:,filt_indices[-1]]\n",
    "                cutout_rgb = make_lupton_rgb(cutout_r, cutout_g, cutout_b, Q=10, stretch=3)\n",
    "            plot_cutouts[n_plots,:,:,:] = cutout_rgb\n",
    "            n_plots += 1\n",
    "    if \"confirmed\" in label_subdir:\n",
    "        return (plot_cutouts, types)\n",
    "    else:\n",
    "        return (plot_cutouts, _)"
   ]
  },
  {
   "cell_type": "code",
   "execution_count": null,
   "metadata": {},
   "outputs": [],
   "source": [
    "confirmed_cutouts, confirmed_types = get_cutouts(label_subdirs[0])"
   ]
  },
  {
   "cell_type": "code",
   "execution_count": null,
   "metadata": {},
   "outputs": [],
   "source": [
    "def custom_loss_all(y_true, y_pred):\n",
    "    return keras.losses.MSE(y_true*np.sqrt(weights_all), y_pred*np.sqrt(weights_all))"
   ]
  },
  {
   "cell_type": "code",
   "execution_count": null,
   "metadata": {},
   "outputs": [],
   "source": [
    "autoencoder = keras.models.load_model(\"Models/autoencoder_128p\",\n",
    "                                 custom_objects={'custom_loss_all': custom_loss_all})"
   ]
  },
  {
   "cell_type": "code",
   "execution_count": null,
   "metadata": {},
   "outputs": [],
   "source": [
    "confirmed_reconstructed, _ = get_cutouts(label_subdirs[0], reconstruct=True)"
   ]
  },
  {
   "cell_type": "code",
   "execution_count": null,
   "metadata": {},
   "outputs": [],
   "source": [
    "Counter(confirmed_types)"
   ]
  },
  {
   "cell_type": "code",
   "execution_count": null,
   "metadata": {},
   "outputs": [],
   "source": [
    "def plot_cutouts(cutouts, figname, ncols=8, types=None):\n",
    "    n_cutouts = len(cutouts)\n",
    "    nrows = int(np.ceil(n_cutouts/ncols))\n",
    "    fig, axes = plt.subplots(nrows, ncols, figsize=(3.1*ncols,3.4*nrows))\n",
    "    n_plots = 0\n",
    "    for n1 in range(nrows):\n",
    "        for n2 in range(ncols):\n",
    "            cutout_rgb = cutouts[n_plots]\n",
    "            norm = ImageNormalize(cutout_rgb, interval=ZScaleInterval())\n",
    "            axes[n1][n2].imshow(cutout_rgb, norm=norm)\n",
    "            if types is not None:\n",
    "                axes[n1][n2].set_title(types[n_plots])\n",
    "            n_plots += 1     \n",
    "            if n_plots == n_cutouts:\n",
    "                break\n",
    "        if n_plots == n_cutouts:\n",
    "                break\n",
    "\n",
    "    # delete empty axes\n",
    "    for i in range(n_cutouts, nrows*ncols):\n",
    "        fig.delaxes(axes.flatten()[i])\n",
    "    plt.savefig(f\"Plots/{figname}\") "
   ]
  },
  {
   "cell_type": "code",
   "execution_count": null,
   "metadata": {},
   "outputs": [],
   "source": [
    "plot_cutouts(confirmed_cutouts, \"confirmed_cutouts_rgb_alt.png\", types=confirmed_types)"
   ]
  },
  {
   "cell_type": "code",
   "execution_count": null,
   "metadata": {},
   "outputs": [],
   "source": [
    "plot_cutouts(confirmed_reconstructed, \"confirmed_reconstructed_rgb.png\", types=confirmed_types)"
   ]
  },
  {
   "cell_type": "code",
   "execution_count": null,
   "metadata": {},
   "outputs": [],
   "source": [
    "plot_indices = [14, 18, 23, 37, 80, 134, 137, 154, 184, 236]\n",
    "confirmed_cutouts_report = [confirmed_cutouts[i] for i in plot_indices]\n",
    "confirmed_types_report = [confirmed_types[i] for i in plot_indices]\n",
    "plot_cutouts(confirmed_cutouts_report, \"confirmed_cutouts_rgb_report.png\", ncols=5, types=confirmed_types_report)"
   ]
  },
  {
   "cell_type": "code",
   "execution_count": null,
   "metadata": {},
   "outputs": [],
   "source": [
    "candidate_cutouts, _ = get_cutouts(label_subdirs[1])"
   ]
  },
  {
   "cell_type": "code",
   "execution_count": null,
   "metadata": {},
   "outputs": [],
   "source": [
    "plot_cutouts(candidate_cutouts, \"candidate_cutouts_rgb.png\")"
   ]
  },
  {
   "cell_type": "code",
   "execution_count": null,
   "metadata": {},
   "outputs": [],
   "source": [
    "plot_indices = [20, 43, 63, 64, 88, 109, 211, 215, 368, 383]\n",
    "candidate_cutouts_report = [candidate_cutouts[i] for i in plot_indices]\n",
    "plot_cutouts(candidate_cutouts_report, \"candidate_cutouts_rgb_report.png\", ncols=5)"
   ]
  },
  {
   "cell_type": "code",
   "execution_count": null,
   "metadata": {},
   "outputs": [],
   "source": [
    "canameras_cutouts, _ = get_cutouts(label_subdirs[2])"
   ]
  },
  {
   "cell_type": "code",
   "execution_count": null,
   "metadata": {},
   "outputs": [],
   "source": [
    "plot_cutouts(canameras_cutouts, \"canameras_cutouts_rgb.png\")"
   ]
  },
  {
   "cell_type": "code",
   "execution_count": null,
   "metadata": {},
   "outputs": [],
   "source": [
    "for label_subdir in label_subdirs[3:]:\n",
    "    figname = label_subdir[:-1] + \".png\"\n",
    "    huang_cutouts, _ = get_cutouts(label_subdir)\n",
    "    plot_cutouts(huang_cutouts, figname)"
   ]
  },
  {
   "cell_type": "code",
   "execution_count": null,
   "metadata": {},
   "outputs": [],
   "source": [
    "def count_cutouts(label_subdir):\n",
    "    n_cutouts = 0\n",
    "    for k in list(hf.get(label_subdir).keys()):\n",
    "        f = list(hf.get(label_subdir + k).keys())[0]\n",
    "        img_subgroup = hf.get(label_subdir + k + \"/\" + f + \"/IMAGES\")\n",
    "        n_cutouts += len(img_subgroup)\n",
    "    print(label_subdir + \":\" + str(n_cutouts))"
   ]
  },
  {
   "cell_type": "code",
   "execution_count": null,
   "metadata": {},
   "outputs": [],
   "source": [
    "for label_subdir in label_subdirs[:]:\n",
    "    count_cutouts(label_subdir)"
   ]
  },
  {
   "cell_type": "code",
   "execution_count": null,
   "metadata": {},
   "outputs": [],
   "source": [
    "hf.close()\n",
    "#src = os.path.expandvars(\"$SLURM_TMPDIR\") + \"/labelled_cutouts_alt.h5\"\n",
    "#dest = os.path.expandvars(\"$SCRATCH\") + \"/\"\n",
    "#shutil.copy2(src, dest)"
   ]
  },
  {
   "cell_type": "code",
   "execution_count": null,
   "metadata": {},
   "outputs": [],
   "source": []
  }
 ],
 "metadata": {
  "kernelspec": {
   "display_name": "Python 3",
   "language": "python",
   "name": "python3"
  },
  "language_info": {
   "codemirror_mode": {
    "name": "ipython",
    "version": 3
   },
   "file_extension": ".py",
   "mimetype": "text/x-python",
   "name": "python",
   "nbconvert_exporter": "python",
   "pygments_lexer": "ipython3",
   "version": "3.8.2"
  }
 },
 "nbformat": 4,
 "nbformat_minor": 4
}
