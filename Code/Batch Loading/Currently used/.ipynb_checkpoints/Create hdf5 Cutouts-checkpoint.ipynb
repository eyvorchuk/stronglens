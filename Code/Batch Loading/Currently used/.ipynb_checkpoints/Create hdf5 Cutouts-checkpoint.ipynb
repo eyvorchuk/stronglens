{
 "cells": [
  {
   "cell_type": "code",
   "execution_count": null,
   "metadata": {},
   "outputs": [],
   "source": [
    "import os\n",
    "import h5py\n",
    "import shutil\n",
    "from astropy.nddata.utils import Cutout2D\n",
    "from astropy.io import fits\n",
    "from astropy import table\n",
    "import numpy as np\n",
    "import matplotlib.pyplot as plt\n",
    "from astropy.visualization import (ZScaleInterval, ImageNormalize)"
   ]
  },
  {
   "cell_type": "markdown",
   "metadata": {},
   "source": [
    "# Initialize hdf5 file"
   ]
  },
  {
   "cell_type": "code",
   "execution_count": null,
   "metadata": {},
   "outputs": [],
   "source": [
    "os.path.expandvars(\"$SLURM_TMPDIR\")"
   ]
  },
  {
   "cell_type": "code",
   "execution_count": null,
   "metadata": {},
   "outputs": [],
   "source": [
    "hf = h5py.File(\"cutouts.h5\", \"w\")\n",
    "hf.close()\n",
    "src = os.path.expandvars(\"$SCRATCH\") + \"/cutouts.h5\"\n",
    "dest = os.path.expandvars(\"$SLURM_TMPDIR\") + \"/\"\n",
    "shutil.copy2(src, dest)"
   ]
  },
  {
   "cell_type": "code",
   "execution_count": null,
   "metadata": {},
   "outputs": [],
   "source": [
    "hf = h5py.File(dest + \"cutouts.h5\", \"r+\")"
   ]
  },
  {
   "cell_type": "code",
   "execution_count": null,
   "metadata": {},
   "outputs": [],
   "source": [
    "image_dir = \"/home/eyvorch9/projects/rrg-kyi/astro/cfis/W3/\""
   ]
  },
  {
   "cell_type": "code",
   "execution_count": null,
   "metadata": {},
   "outputs": [],
   "source": [
    "# Only use tiles with all five channels\n",
    "\n",
    "tile_list = open(image_dir + \"tiles.list\", \"r\")\n",
    "\n",
    "u_images = []\n",
    "u_weights = []\n",
    "g_images = []\n",
    "g_weights = []\n",
    "r_images = []\n",
    "r_weights = []\n",
    "i_images= []\n",
    "i_weights = []\n",
    "z_images = []\n",
    "z_weights = []\n",
    "cats = []\n",
    "\n",
    "for tile in tile_list:\n",
    "    tile = tile[:-1] # Remove new line character\n",
    "    channels = tile.split(\" \")\n",
    "    if len(channels) == 5: # Order is u,g,r,i,z\n",
    "        u_images.append(image_dir + channels[0] + \".fits\")\n",
    "        u_weights.append(image_dir + channels[0] + \".weight.fits.fz\")\n",
    "        g_images.append(image_dir + channels[1] + \".fits\")\n",
    "        g_weights.append(image_dir + channels[1] + \".wt.fits\")\n",
    "        r_images.append(image_dir + channels[2] + \".fits\")\n",
    "        r_weights.append(image_dir + channels[2] + \".weight.fits.fz\")\n",
    "        i_images.append(image_dir + channels[3] + \".fits\")\n",
    "        i_weights.append(image_dir + channels[3] + \".wt.fits\")\n",
    "        z_images.append(image_dir + channels[4] + \".fits\")\n",
    "        z_weights.append(image_dir + channels[4] + \".wt.fits\")\n",
    "        cats.append(image_dir + channels[2] + \".cat\")\n",
    "tile_list.close()"
   ]
  },
  {
   "cell_type": "code",
   "execution_count": null,
   "metadata": {},
   "outputs": [],
   "source": [
    "print(len(u_images))\n",
    "print(len(u_weights))\n",
    "print(len(g_images))\n",
    "print(len(g_weights))\n",
    "print(len(r_images))\n",
    "print(len(r_weights))\n",
    "print(len(i_images))\n",
    "print(len(i_weights))\n",
    "print(len(z_images))\n",
    "print(len(z_weights))\n",
    "print(len(cats))"
   ]
  },
  {
   "cell_type": "code",
   "execution_count": null,
   "metadata": {},
   "outputs": [],
   "source": [
    "# Copy first 20 tiles to $SLURM_TMPDIR\n",
    "n_tiles = 20\n",
    "for n in range(n_tiles):\n",
    "    shutil.copy2(u_images[n], dest)\n",
    "    shutil.copy2(u_weights[n], dest)\n",
    "    shutil.copy2(g_images[n], dest)\n",
    "    shutil.copy2(g_weights[n], dest)\n",
    "    shutil.copy2(r_images[n], dest)\n",
    "    shutil.copy2(r_weights[n], dest)\n",
    "    shutil.copy2(i_images[n], dest)\n",
    "    shutil.copy2(i_weights[n], dest)\n",
    "    shutil.copy2(z_images[n], dest)\n",
    "    shutil.copy2(z_weights[n], dest)\n",
    "    shutil.copy2(cats[n], dest)\n",
    "    \n",
    "    u_images[n] = os.path.abspath(dest + os.path.basename(u_images[n]))\n",
    "    u_weights[n] = os.path.abspath(dest + os.path.basename(u_weights[n]))\n",
    "    g_images[n] = os.path.abspath(dest + os.path.basename(g_images[n]))\n",
    "    g_weights[n] = os.path.abspath(dest + os.path.basename(g_weights[n]))\n",
    "    r_images[n] = os.path.abspath(dest + os.path.basename(r_images[n]))\n",
    "    r_weights[n] = os.path.abspath(dest + os.path.basename(r_weights[n]))\n",
    "    i_images[n] = os.path.abspath(dest + os.path.basename(i_images[n]))\n",
    "    i_weights[n] = os.path.abspath(dest + os.path.basename(i_weights[n]))\n",
    "    z_images[n] = os.path.abspath(dest + os.path.basename(z_images[n]))\n",
    "    z_weights[n] = os.path.abspath(dest + os.path.basename(z_weights[n]))    \n",
    "    cats[n] = os.path.abspath(dest + os.path.basename(cats[n]))    "
   ]
  },
  {
   "cell_type": "markdown",
   "metadata": {},
   "source": [
    "# Store cutouts into hdf5 file"
   ]
  },
  {
   "cell_type": "code",
   "execution_count": null,
   "metadata": {},
   "outputs": [],
   "source": [
    "def create_cutouts(img, wt, x, y):\n",
    "    img_cutout = Cutout2D(img.data, (x, y), cutout_size, mode=\"partial\", fill_value=0).data\n",
    "    wt_cutout = Cutout2D(wt.data, (x, y), cutout_size, mode=\"partial\", fill_value=0).data\n",
    "    img_cutout[np.isnan(img_cutout)] = 0\n",
    "    wt_cutout[np.isnan(wt_cutout)] = 0\n",
    "    \n",
    "    lower = np.percentile(img_cutout, 1)\n",
    "    upper = np.percentile(img_cutout, 99)\n",
    "    if upper == lower: # Avoid division by 0\n",
    "        img_norm = img_cutout\n",
    "        wt_norm = wt_cutout\n",
    "    else:\n",
    "        img_norm = (img_cutout - np.min(img_cutout)) / (upper - lower)\n",
    "        wt_norm = (wt_cutout - np.min(wt_cutout)) / (upper - lower)\n",
    "    \n",
    "    return (img_norm, wt_norm)"
   ]
  },
  {
   "cell_type": "code",
   "execution_count": null,
   "metadata": {},
   "outputs": [],
   "source": [
    "cutout_size = 64\n",
    "img_cutout = np.zeros((cutout_size, cutout_size, 5))\n",
    "wt_cutout = np.zeros((cutout_size, cutout_size, 5))\n",
    "for n in range(n_tiles):\n",
    "    root = os.path.basename(u_images[n])[5:12] + \"/\" # XXX.XXX id\n",
    "    \n",
    "    u_image = fits.open(u_images[n], memmap=True)\n",
    "    u_weight = fits.open(u_weights[n], memmap=True)\n",
    "    g_image = fits.open(g_images[n], memmap=True)\n",
    "    g_weight = fits.open(g_weights[n], memmap=True)\n",
    "    r_image = fits.open(r_images[n], memmap=True)\n",
    "    r_weight = fits.open(r_weights[n], memmap=True)\n",
    "    i_image = fits.open(i_images[n], memmap=True)\n",
    "    i_weight = fits.open(i_weights[n], memmap=True)\n",
    "    z_image = fits.open(z_images[n], memmap=True)\n",
    "    z_weight = fits.open(z_weights[n], memmap=True)\n",
    "    cat = table.Table.read(cats[n], format=\"ascii.sextractor\")\n",
    "    \n",
    "    img_group = hf.create_group(root + \"IMAGES\")\n",
    "    wt_group = hf.create_group(root + \"WEIGHTS\")\n",
    "\n",
    "    for i, (x, y) in enumerate(zip(cat[\"X_IMAGE\"], cat[\"Y_IMAGE\"])):\n",
    "        (u_img, u_wt) = create_cutouts(u_image[0], u_weight[1], x, y)\n",
    "        (g_img, g_wt) = create_cutouts(g_image[0], g_weight[0], x, y)\n",
    "        (r_img, r_wt) = create_cutouts(r_image[0], r_weight[1], x, y)\n",
    "        (i_img, i_wt) = create_cutouts(i_image[0], i_weight[0], x, y)\n",
    "        (z_img, z_wt) = create_cutouts(z_image[0], z_weight[0], x, y)\n",
    "        \n",
    "        img_cutout[:,:,0] = u_img\n",
    "        img_cutout[:,:,1] = g_img\n",
    "        img_cutout[:,:,2] = r_img\n",
    "        img_cutout[:,:,3] = i_img\n",
    "        img_cutout[:,:,4] = z_img\n",
    "        wt_cutout[:,:,0] = u_wt\n",
    "        wt_cutout[:,:,1] = g_wt\n",
    "        wt_cutout[:,:,2] = r_wt\n",
    "        wt_cutout[:,:,3] = i_wt\n",
    "        wt_cutout[:,:,4] = z_wt\n",
    "\n",
    "        img_group.create_dataset(f\"c{i}\", data=img_cutout)\n",
    "        wt_group.create_dataset(f\"c{i}\", data=wt_cutout)\n",
    "    \n",
    "    u_image.close()\n",
    "    u_weight.close()\n",
    "    g_image.close()\n",
    "    g_weight.close()\n",
    "    r_image.close()\n",
    "    r_weight.close()\n",
    "    i_image.close()\n",
    "    i_weight.close()\n",
    "    z_image.close()\n",
    "    z_weight.close()\n",
    "    print(f\"Tile {n} completed\")"
   ]
  },
  {
   "cell_type": "markdown",
   "metadata": {},
   "source": [
    "# Test getting and plotting cutouts from hdf5 file"
   ]
  },
  {
   "cell_type": "code",
   "execution_count": null,
   "metadata": {},
   "outputs": [],
   "source": [
    "group = hf.get(\"180.272/IMAGES\")\n",
    "plot_cutouts = np.array(group.get(\"c4\"))\n",
    "print(plot_cutouts.shape)"
   ]
  },
  {
   "cell_type": "code",
   "execution_count": null,
   "metadata": {},
   "outputs": [],
   "source": [
    "channels = [\"u\", \"g\", \"r\", \"i\", \"z\"]\n",
    "fig, axes = plt.subplots(1,5, figsize=(12,8))\n",
    "for i in range(5):\n",
    "    axes[i].imshow(plot_cutouts[:,:,i])\n",
    "    axes[i].set_title(channels[i])"
   ]
  },
  {
   "cell_type": "code",
   "execution_count": null,
   "metadata": {},
   "outputs": [],
   "source": [
    "hf.close()\n",
    "src = os.path.expandvars(\"$SLURM_TMPDIR\") + \"/cutouts.h5\"\n",
    "dest = os.path.expandvars(\"$SCRATCH\") + \"/\"\n",
    "shutil.copy2(src, dest)"
   ]
  }
 ],
 "metadata": {
  "kernelspec": {
   "display_name": "Python 3",
   "language": "python",
   "name": "python3"
  },
  "language_info": {
   "codemirror_mode": {
    "name": "ipython",
    "version": 3
   },
   "file_extension": ".py",
   "mimetype": "text/x-python",
   "name": "python",
   "nbconvert_exporter": "python",
   "pygments_lexer": "ipython3",
   "version": "3.8.2"
  }
 },
 "nbformat": 4,
 "nbformat_minor": 4
}
