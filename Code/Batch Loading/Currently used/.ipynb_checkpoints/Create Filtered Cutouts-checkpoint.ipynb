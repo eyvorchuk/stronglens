{
 "cells": [
  {
   "cell_type": "code",
   "execution_count": null,
   "metadata": {},
   "outputs": [],
   "source": [
    "import os\n",
    "import h5py\n",
    "import shutil\n",
    "from astropy.nddata.utils import Cutout2D\n",
    "from astropy.io import fits\n",
    "from astropy import table\n",
    "import numpy as np\n",
    "import matplotlib.pyplot as plt\n",
    "from astropy.visualization import (ZScaleInterval, ImageNormalize)"
   ]
  },
  {
   "cell_type": "markdown",
   "metadata": {},
   "source": [
    "# Initialize hdf5 file"
   ]
  },
  {
   "cell_type": "code",
   "execution_count": null,
   "metadata": {},
   "outputs": [],
   "source": [
    "os.path.expandvars(\"$SLURM_TMPDIR\")"
   ]
  },
  {
   "cell_type": "code",
   "execution_count": null,
   "metadata": {},
   "outputs": [],
   "source": [
    "hf = h5py.File(\"cutouts_filtered_128.h5\", \"w\")\n",
    "hf.close()"
   ]
  },
  {
   "cell_type": "code",
   "execution_count": null,
   "metadata": {},
   "outputs": [],
   "source": [
    "src = os.path.expandvars(\"$SCRATCH\") + \"/cutouts_filtered_128.h5\"\n",
    "dest = os.path.expandvars(\"$SLURM_TMPDIR\") + \"/\"\n",
    "shutil.copy2(src, dest)"
   ]
  },
  {
   "cell_type": "code",
   "execution_count": null,
   "metadata": {},
   "outputs": [],
   "source": [
    "hf = h5py.File(dest + \"cutouts_filtered_128.h5\", \"r+\")"
   ]
  },
  {
   "cell_type": "code",
   "execution_count": null,
   "metadata": {},
   "outputs": [],
   "source": [
    "image_dir = \"/home/eyvorch9/projects/rrg-kyi/astro/cfis/W3/\""
   ]
  },
  {
   "cell_type": "code",
   "execution_count": null,
   "metadata": {},
   "outputs": [],
   "source": [
    "# Only use tiles with all five channels\n",
    "\n",
    "tile_list = open(image_dir + \"tiles.list\", \"r\")\n",
    "\n",
    "u_images = []\n",
    "u_weights = []\n",
    "g_images = []\n",
    "g_weights = []\n",
    "r_images = []\n",
    "r_weights = []\n",
    "i_images= []\n",
    "i_weights = []\n",
    "z_images = []\n",
    "z_weights = []\n",
    "cats = []\n",
    "\n",
    "for tile in tile_list:\n",
    "    tile = tile[:-1] # Remove new line character\n",
    "    channels = tile.split(\" \")\n",
    "    if len(channels) == 5: # Order is u,g,r,i,z\n",
    "        u_images.append(image_dir + channels[0] + \".fits\")\n",
    "        u_weights.append(image_dir + channels[0] + \".weight.fits.fz\")\n",
    "        g_images.append(image_dir + channels[1] + \".fits\")\n",
    "        g_weights.append(image_dir + channels[1] + \".wt.fits\")\n",
    "        r_images.append(image_dir + channels[2] + \".fits\")\n",
    "        r_weights.append(image_dir + channels[2] + \".weight.fits.fz\")\n",
    "        i_images.append(image_dir + channels[3] + \".fits\")\n",
    "        i_weights.append(image_dir + channels[3] + \".wt.fits\")\n",
    "        z_images.append(image_dir + channels[4] + \".fits\")\n",
    "        z_weights.append(image_dir + channels[4] + \".wt.fits\")\n",
    "        cats.append(image_dir + channels[2] + \".cat\")\n",
    "tile_list.close()"
   ]
  },
  {
   "cell_type": "code",
   "execution_count": null,
   "metadata": {},
   "outputs": [],
   "source": [
    "print(len(u_images))\n",
    "print(len(u_weights))\n",
    "print(len(g_images))\n",
    "print(len(g_weights))\n",
    "print(len(r_images))\n",
    "print(len(r_weights))\n",
    "print(len(i_images))\n",
    "print(len(i_weights))\n",
    "print(len(z_images))\n",
    "print(len(z_weights))\n",
    "print(len(cats))"
   ]
  },
  {
   "cell_type": "code",
   "execution_count": null,
   "metadata": {},
   "outputs": [],
   "source": [
    "# Copy tiles to $SLURM_TMPDIR\n",
    "start = 0\n",
    "end = 20\n",
    "for n in range(start, end):\n",
    "    shutil.copy2(u_images[n], dest)\n",
    "    shutil.copy2(u_weights[n], dest)\n",
    "    shutil.copy2(g_images[n], dest)\n",
    "    shutil.copy2(g_weights[n], dest)\n",
    "    shutil.copy2(r_images[n], dest)\n",
    "    shutil.copy2(r_weights[n], dest)\n",
    "    shutil.copy2(i_images[n], dest)\n",
    "    shutil.copy2(i_weights[n], dest)\n",
    "    shutil.copy2(z_images[n], dest)\n",
    "    shutil.copy2(z_weights[n], dest)\n",
    "    shutil.copy2(cats[n], dest)\n",
    "    \n",
    "    u_images[n] = os.path.abspath(dest + os.path.basename(u_images[n]))\n",
    "    u_weights[n] = os.path.abspath(dest + os.path.basename(u_weights[n]))\n",
    "    g_images[n] = os.path.abspath(dest + os.path.basename(g_images[n]))\n",
    "    g_weights[n] = os.path.abspath(dest + os.path.basename(g_weights[n]))\n",
    "    r_images[n] = os.path.abspath(dest + os.path.basename(r_images[n]))\n",
    "    r_weights[n] = os.path.abspath(dest + os.path.basename(r_weights[n]))\n",
    "    i_images[n] = os.path.abspath(dest + os.path.basename(i_images[n]))\n",
    "    i_weights[n] = os.path.abspath(dest + os.path.basename(i_weights[n]))\n",
    "    z_images[n] = os.path.abspath(dest + os.path.basename(z_images[n]))\n",
    "    z_weights[n] = os.path.abspath(dest + os.path.basename(z_weights[n]))    \n",
    "    cats[n] = os.path.abspath(dest + os.path.basename(cats[n]))  "
   ]
  },
  {
   "cell_type": "markdown",
   "metadata": {},
   "source": [
    "# Store cutouts into hdf5 file"
   ]
  },
  {
   "cell_type": "code",
   "execution_count": null,
   "metadata": {},
   "outputs": [],
   "source": [
    "def create_cutouts(img, wt, x, y, band):\n",
    "    img_cutout = Cutout2D(img.data, (x, y), cutout_size, mode=\"partial\", fill_value=0).data\n",
    "    if np.count_nonzero(np.isnan(img_cutout)) >= 0.05*cutout_size**2 or np.count_nonzero(img_cutout) == 0: # Don't use this cutout\n",
    "        return (None, None)\n",
    "    wt_cutout = Cutout2D(wt.data, (x, y), cutout_size, mode=\"partial\", fill_value=0).data\n",
    "    img_cutout[np.isnan(img_cutout)] = 0\n",
    "    wt_cutout[np.isnan(wt_cutout)] = 0\n",
    "    \n",
    "    img_lower = np.percentile(img_cutout, 1)\n",
    "    img_upper = np.percentile(img_cutout, 99)\n",
    "    \n",
    "    if img_lower == img_upper:\n",
    "        img_norm = np.zeros((cutout_size, cutout_size))\n",
    "    else:\n",
    "        img_norm = (img_cutout - np.min(img_cutout)) / (img_upper - img_lower)\n",
    "    if (band != \"u\" or band != \"r\") and img_upper != img_lower: # Alter weights for PS1\n",
    "        wt_norm = (wt_cutout - np.min(wt_cutout)) / (img_upper - img_lower)\n",
    "    else: # Do not alter weights for CFIS\n",
    "        wt_norm = wt_cutout\n",
    "        \n",
    "    return (img_norm, wt_norm)"
   ]
  },
  {
   "cell_type": "code",
   "execution_count": null,
   "metadata": {},
   "outputs": [],
   "source": [
    "cutout_size = 128\n",
    "img_cutout = np.zeros((cutout_size, cutout_size, 5))\n",
    "wt_cutout = np.zeros((cutout_size, cutout_size, 5))\n",
    "for n in range(start, end):\n",
    "    root = os.path.basename(u_images[n])[5:12] + \"/\" # XXX.XXX id\n",
    "    \n",
    "    u_image = fits.open(u_images[n], memmap=True)\n",
    "    u_weight = fits.open(u_weights[n], memmap=True)\n",
    "    g_image = fits.open(g_images[n], memmap=True)\n",
    "    g_weight = fits.open(g_weights[n], memmap=True)\n",
    "    r_image = fits.open(r_images[n], memmap=True)\n",
    "    r_weight = fits.open(r_weights[n], memmap=True)\n",
    "    i_image = fits.open(i_images[n], memmap=True)\n",
    "    i_weight = fits.open(i_weights[n], memmap=True)\n",
    "    z_image = fits.open(z_images[n], memmap=True)\n",
    "    z_weight = fits.open(z_weights[n], memmap=True)\n",
    "    cat = table.Table.read(cats[n], format=\"ascii.sextractor\")\n",
    "    \n",
    "    img_group = hf.create_group(root + \"IMAGES\")\n",
    "    wt_group = hf.create_group(root + \"WEIGHTS\")\n",
    "\n",
    "    count = 0\n",
    "    for i in range(len(cat)):\n",
    "        if cat[\"FLAGS\"][i] != 0 or cat[\"MAG_AUTO\"][i] >= 99.0 or cat[\"MAGERR_AUTO\"][i] <= 0 or cat[\"MAGERR_AUTO\"][i] >= 1:\n",
    "            continue\n",
    "        x = cat[\"X_IMAGE\"][i]\n",
    "        y = cat[\"Y_IMAGE\"][i]\n",
    "        (r_img, r_wt) = create_cutouts(r_image[0], r_weight[1], x, y, \"r\")\n",
    "        if r_img is None:\n",
    "            continue\n",
    "        (u_img, u_wt) = create_cutouts(u_image[0], u_weight[1], x, y, \"u\")\n",
    "        if u_img is None:\n",
    "            continue\n",
    "        (g_img, g_wt) = create_cutouts(g_image[0], g_weight[0], x, y, \"g\")\n",
    "        if g_img is None:\n",
    "            continue\n",
    "        (i_img, i_wt) = create_cutouts(i_image[0], i_weight[0], x, y, \"i\")\n",
    "        if i_img is None:\n",
    "            continue\n",
    "        (z_img, z_wt) = create_cutouts(z_image[0], z_weight[0], x, y, \"z\")\n",
    "        if z_img is None:\n",
    "            continue\n",
    "        \n",
    "        img_cutout[:,:,0] = u_img\n",
    "        img_cutout[:,:,1] = g_img\n",
    "        img_cutout[:,:,2] = r_img\n",
    "        img_cutout[:,:,3] = i_img\n",
    "        img_cutout[:,:,4] = z_img\n",
    "        wt_cutout[:,:,0] = u_wt\n",
    "        wt_cutout[:,:,1] = g_wt\n",
    "        wt_cutout[:,:,2] = r_wt\n",
    "        wt_cutout[:,:,3] = i_wt\n",
    "        wt_cutout[:,:,4] = z_wt\n",
    "\n",
    "        img_group.create_dataset(f\"c{count}\", data=img_cutout)\n",
    "        wt_group.create_dataset(f\"c{count}\", data=wt_cutout)\n",
    "        count += 1\n",
    "    \n",
    "    u_image.close()\n",
    "    u_weight.close()\n",
    "    g_image.close()\n",
    "    g_weight.close()\n",
    "    r_image.close()\n",
    "    r_weight.close()\n",
    "    i_image.close()\n",
    "    i_weight.close()\n",
    "    z_image.close()\n",
    "    z_weight.close()\n",
    "    print(f\"Tile {n+1} completed\")"
   ]
  },
  {
   "cell_type": "markdown",
   "metadata": {},
   "source": [
    "# Test getting and plotting cutouts from hdf5 file"
   ]
  },
  {
   "cell_type": "code",
   "execution_count": null,
   "metadata": {},
   "outputs": [],
   "source": [
    "group = hf.get(\"180.272/IMAGES\")\n",
    "plot_cutouts = np.array(group.get(\"c110\"))\n",
    "print(plot_cutouts.shape)"
   ]
  },
  {
   "cell_type": "code",
   "execution_count": null,
   "metadata": {},
   "outputs": [],
   "source": [
    "channels = [\"u\", \"g\", \"r\", \"i\", \"z\"]\n",
    "fig, axes = plt.subplots(1,5, figsize=(12,8))\n",
    "for i in range(5):\n",
    "    norm = ImageNormalize(plot_cutouts[:,:,i], interval=ZScaleInterval())\n",
    "    axes[i].imshow(plot_cutouts[:,:,i], norm=norm)\n",
    "    axes[i].set_title(channels[i])"
   ]
  },
  {
   "cell_type": "code",
   "execution_count": null,
   "metadata": {},
   "outputs": [],
   "source": [
    "group_weight = hf.get(\"180.272/WEIGHTS\")\n",
    "plot_weights = np.array(group_weight.get(\"c110\"))\n",
    "print(plot_weights.shape)"
   ]
  },
  {
   "cell_type": "code",
   "execution_count": null,
   "metadata": {},
   "outputs": [],
   "source": [
    "channels = [\"u\", \"g\", \"r\", \"i\", \"z\"]\n",
    "fig, axes = plt.subplots(1,5, figsize=(12,8))\n",
    "for i in range(5):\n",
    "    norm = ImageNormalize(plot_weights[:,:,i], interval=ZScaleInterval())\n",
    "    axes[i].imshow(plot_weights[:,:,i], norm=norm)\n",
    "    axes[i].set_title(channels[i])"
   ]
  },
  {
   "cell_type": "code",
   "execution_count": null,
   "metadata": {},
   "outputs": [],
   "source": [
    "hf.close()\n",
    "src = os.path.expandvars(\"$SLURM_TMPDIR\") + \"/cutouts_filtered_128.h5\"\n",
    "dest = os.path.expandvars(\"$SCRATCH\") + \"/\"\n",
    "shutil.copy2(src, dest)"
   ]
  },
  {
   "cell_type": "code",
   "execution_count": null,
   "metadata": {},
   "outputs": [],
   "source": []
  }
 ],
 "metadata": {
  "kernelspec": {
   "display_name": "Python 3",
   "language": "python",
   "name": "python3"
  },
  "language_info": {
   "codemirror_mode": {
    "name": "ipython",
    "version": 3
   },
   "file_extension": ".py",
   "mimetype": "text/x-python",
   "name": "python",
   "nbconvert_exporter": "python",
   "pygments_lexer": "ipython3",
   "version": "3.8.2"
  }
 },
 "nbformat": 4,
 "nbformat_minor": 4
}
