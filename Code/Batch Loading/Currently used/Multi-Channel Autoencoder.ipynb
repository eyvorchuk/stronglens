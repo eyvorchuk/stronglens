{
 "cells": [
  {
   "cell_type": "code",
   "execution_count": null,
   "metadata": {},
   "outputs": [],
   "source": [
    "import os\n",
    "import h5py\n",
    "import numpy as np\n",
    "import pandas as pd\n",
    "import matplotlib.pyplot as plt\n",
    "from astropy.visualization import (ZScaleInterval, ImageNormalize)\n",
    "import tensorflow as tf\n",
    "from tensorflow import keras"
   ]
  },
  {
   "cell_type": "code",
   "execution_count": null,
   "metadata": {},
   "outputs": [],
   "source": [
    "cutout_dir = os.path.expandvars(\"$SLURM_TMPDIR\") + \"/\"\n",
    "image_dir = \"/home/eyvorch9/projects/rrg-kyi/astro/cfis/W3/\""
   ]
  },
  {
   "cell_type": "code",
   "execution_count": null,
   "metadata": {},
   "outputs": [],
   "source": [
    "os.listdir(cutout_dir)"
   ]
  },
  {
   "cell_type": "code",
   "execution_count": null,
   "metadata": {},
   "outputs": [],
   "source": [
    "hf = h5py.File(cutout_dir + \"cutouts_filtered.h5\", \"r\")"
   ]
  },
  {
   "cell_type": "code",
   "execution_count": null,
   "metadata": {},
   "outputs": [],
   "source": [
    "n_cutouts = 0\n",
    "for i in range(10):\n",
    "    n_cutouts += len(hf.get(tile_ids[i] + \"/IMAGES\"))\n",
    "print(n_cutouts)"
   ]
  },
  {
   "cell_type": "code",
   "execution_count": null,
   "metadata": {},
   "outputs": [],
   "source": [
    "len(hf.get(tile_ids[12] + \"/IMAGES\"))"
   ]
  },
  {
   "cell_type": "markdown",
   "metadata": {},
   "source": [
    "# Look at sample cutouts"
   ]
  },
  {
   "cell_type": "code",
   "execution_count": null,
   "metadata": {},
   "outputs": [],
   "source": [
    "group = hf.get(\"180.272/IMAGES\")\n",
    "plot_cutouts = np.array(group.get(\"c0\"))\n",
    "print(plot_cutouts.shape)"
   ]
  },
  {
   "cell_type": "code",
   "execution_count": null,
   "metadata": {},
   "outputs": [],
   "source": [
    "group_weight = hf.get(\"180.272/WEIGHTS\")\n",
    "plot_weights = np.array(group_weight.get(\"c0\"))\n",
    "print(plot_weights.shape)"
   ]
  },
  {
   "cell_type": "code",
   "execution_count": null,
   "metadata": {},
   "outputs": [],
   "source": [
    "channels = [\"u\", \"g\", \"r\", \"i\", \"z\"]\n",
    "fig, axes = plt.subplots(1,5, figsize=(12,8))\n",
    "for i in range(5):\n",
    "    norm = ImageNormalize(plot_cutouts[:,:,i], interval=ZScaleInterval())\n",
    "    axes[i].imshow(plot_cutouts[:,:,i], norm=norm)\n",
    "    axes[i].set_title(channels[i])"
   ]
  },
  {
   "cell_type": "code",
   "execution_count": null,
   "metadata": {},
   "outputs": [],
   "source": [
    "channels = [\"u\", \"g\", \"r\", \"i\", \"z\"]\n",
    "fig, axes = plt.subplots(1,5, figsize=(12,8))\n",
    "for i in range(5):\n",
    "    norm = ImageNormalize(plot_weights[:,:,i], interval=ZScaleInterval())\n",
    "    axes[i].imshow(plot_weights[:,:,i], norm=norm)\n",
    "    axes[i].set_title(channels[i])"
   ]
  },
  {
   "cell_type": "code",
   "execution_count": null,
   "metadata": {},
   "outputs": [],
   "source": [
    "plot_cutouts[:,:,1]"
   ]
  },
  {
   "cell_type": "markdown",
   "metadata": {},
   "source": [
    "# Get tile ids"
   ]
  },
  {
   "cell_type": "code",
   "execution_count": null,
   "metadata": {},
   "outputs": [],
   "source": [
    "tile_list = open(image_dir + \"tiles.list\", \"r\")\n",
    "for tile in tile_list.readlines():\n",
    "    print(tile[:-1])\n",
    "tile_list.close()"
   ]
  },
  {
   "cell_type": "code",
   "execution_count": null,
   "metadata": {},
   "outputs": [],
   "source": [
    "# Only use tiles with all five channels\n",
    "\n",
    "tile_list = open(image_dir + \"tiles.list\", \"r\")\n",
    "tile_ids = []\n",
    "\n",
    "for tile in tile_list:\n",
    "    tile = tile[:-1] # Remove new line character\n",
    "    channels = tile.split(\" \")\n",
    "    if len(channels) == 5: # Order is u,g,r,i,z\n",
    "        tile_ids.append(channels[0][5:12]) # XXX.XXX id\n",
    "tile_list.close()"
   ]
  },
  {
   "cell_type": "code",
   "execution_count": null,
   "metadata": {},
   "outputs": [],
   "source": [
    "print(len(tile_ids))\n",
    "print(tile_ids[0])"
   ]
  },
  {
   "cell_type": "markdown",
   "metadata": {},
   "source": [
    "# Prepare Training"
   ]
  },
  {
   "cell_type": "code",
   "execution_count": null,
   "metadata": {},
   "outputs": [],
   "source": [
    "batch_size = 128\n",
    "cutout_size = 64\n",
    "n_epochs = 12\n",
    "weights_cfis = np.zeros((batch_size, cutout_size, cutout_size, 2))\n",
    "weights_ps1 = np.zeros((batch_size, cutout_size, cutout_size, 3))\n",
    "weights_all = np.zeros((batch_size, cutout_size, cutout_size, 5))"
   ]
  },
  {
   "cell_type": "code",
   "execution_count": null,
   "metadata": {},
   "outputs": [],
   "source": [
    "def get_cutouts(tile_indices, batch_size, cutout_size, bands=\"all\"):\n",
    "    b = 0 # counter for batch\n",
    "    if bands == \"all\":\n",
    "        sources = np.zeros((batch_size, cutout_size, cutout_size, 5))\n",
    "        band_indices = [0, 1, 2, 3, 4]\n",
    "        weights = weights_all\n",
    "    elif bands == \"cfis\":\n",
    "        sources = np.zeros((batch_size, cutout_size, cutout_size, 2))\n",
    "        band_indices = [0, 2]\n",
    "        weights = weights_cfis\n",
    "    else: # PS1\n",
    "        sources = np.zeros((batch_size, cutout_size, cutout_size, 3))\n",
    "        band_indices = [1, 3, 4]\n",
    "        weights = weights_ps1\n",
    "    while True:\n",
    "        for i in tile_indices:\n",
    "            img_group = hf.get(tile_ids[i] + \"/IMAGES\")\n",
    "            wt_group = hf.get(tile_ids[i] + \"/WEIGHTS\")\n",
    "            n_cutouts = len(img_group)\n",
    "            for n in range(n_cutouts):\n",
    "                sources[b,:,:,:] = np.array(img_group.get(f\"c{n}\"))[:,:,band_indices]\n",
    "                weights[b,:,:,:] = np.array(wt_group.get(f\"c{n}\"))[:,:,band_indices]\n",
    "                b += 1\n",
    "                if b == batch_size:\n",
    "                    b = 0\n",
    "                    yield (sources, sources)"
   ]
  },
  {
   "cell_type": "code",
   "execution_count": null,
   "metadata": {},
   "outputs": [],
   "source": [
    "def train_autoencoder(model, train_indices, val_indices, n_epochs, batch_size, cutout_size, bands=\"all\"):\n",
    "    n_cutouts_train = 0\n",
    "    for i in train_indices:\n",
    "        img_group = hf.get(tile_ids[i] + \"/IMAGES\")        \n",
    "        n_cutouts_train += len(img_group)\n",
    "    n_cutouts_val = 0\n",
    "    for i in val_indices:\n",
    "        img_group = hf.get(tile_ids[i] + \"/IMAGES\")        \n",
    "        n_cutouts_val += len(img_group)\n",
    "    train_steps = n_cutouts_train // batch_size\n",
    "    val_steps = n_cutouts_val // batch_size\n",
    "    history = model.fit(get_cutouts(train_indices, batch_size, cutout_size, bands), \n",
    "                        epochs=n_epochs, steps_per_epoch=train_steps, \n",
    "                        validation_data=get_cutouts(val_indices, batch_size, cutout_size, bands), \n",
    "                        validation_steps=val_steps)\n",
    "    return model, history"
   ]
  },
  {
   "cell_type": "markdown",
   "metadata": {},
   "source": [
    "## Autoencoder with pooling layers"
   ]
  },
  {
   "cell_type": "code",
   "execution_count": null,
   "metadata": {},
   "outputs": [],
   "source": [
    "def create_autoencoder1(shape):\n",
    "    input_img = keras.Input(shape=shape)\n",
    "    x = keras.layers.Conv2D(16, kernel_size=3, activation='relu', padding='same')(input_img)\n",
    "    x = keras.layers.MaxPooling2D((2,2), padding='same')(x)\n",
    "    x = keras.layers.Conv2D(32, kernel_size=3, activation='relu', padding='same')(x)\n",
    "    x = keras.layers.MaxPooling2D((2,2), padding='same')(x)\n",
    "    x = keras.layers.Flatten()(x)\n",
    "    x = keras.layers.Dense(128)(x)\n",
    "    encoded = keras.layers.Dense(1024)(x)\n",
    "    \n",
    "    x = keras.layers.Reshape((16,16,4))(encoded)\n",
    "    x = keras.layers.UpSampling2D((2,2))(x)\n",
    "    x = keras.layers.Conv2DTranspose(32, kernel_size=3, activation='relu', padding='same')(x)\n",
    "    x = keras.layers.UpSampling2D((2,2))(x)\n",
    "    x = keras.layers.Conv2DTranspose(16, kernel_size=3, activation='relu', padding='same')(x)\n",
    "    decoded = keras.layers.Conv2D(shape[2], (3,3), activation='linear', padding='same')(x)\n",
    "    \n",
    "    return keras.Model(input_img, decoded)"
   ]
  },
  {
   "cell_type": "code",
   "execution_count": null,
   "metadata": {},
   "outputs": [],
   "source": [
    "def custom_loss_cfis(y_true, y_pred):\n",
    "    return keras.losses.MSE(y_true*np.sqrt(weights_cfis), y_pred*np.sqrt(weights_cfis))"
   ]
  },
  {
   "cell_type": "code",
   "execution_count": null,
   "metadata": {},
   "outputs": [],
   "source": [
    "def custom_loss_ps1(y_true, y_pred):\n",
    "    return keras.losses.MSE(y_true*np.sqrt(weights_ps1), y_pred*np.sqrt(weights_ps1))"
   ]
  },
  {
   "cell_type": "code",
   "execution_count": null,
   "metadata": {},
   "outputs": [],
   "source": [
    "def custom_loss_all(y_true, y_pred):\n",
    "    return keras.losses.MSE(y_true*np.sqrt(weights_all), y_pred*np.sqrt(weights_all))"
   ]
  },
  {
   "cell_type": "code",
   "execution_count": null,
   "metadata": {},
   "outputs": [],
   "source": [
    "train_indices = range(10)\n",
    "val_indices = [12]"
   ]
  },
  {
   "cell_type": "code",
   "execution_count": null,
   "metadata": {},
   "outputs": [],
   "source": [
    "autoencoder1 = create_autoencoder1((cutout_size, cutout_size, 5))\n",
    "#opt = keras.optimizers.Adam(learning_rate=0.005)\n",
    "autoencoder1.compile(optimizer=\"adam\", loss=custom_loss)"
   ]
  },
  {
   "cell_type": "code",
   "execution_count": null,
   "metadata": {},
   "outputs": [],
   "source": [
    "autoencoder1.summary()"
   ]
  },
  {
   "cell_type": "code",
   "execution_count": null,
   "metadata": {},
   "outputs": [],
   "source": [
    "(autoencoder1, history1) = train_autoencoder(autoencoder1, train_indices, val_indices, batch_size, cutout_size)"
   ]
  },
  {
   "cell_type": "code",
   "execution_count": null,
   "metadata": {},
   "outputs": [],
   "source": [
    "def plot_loss_curves(history, figname):\n",
    "    plt.plot(history[\"loss\"], color=\"g\", label=\"Training\")\n",
    "    plt.plot(history[\"val_loss\"], color=\"b\", label=\"Validation\")\n",
    "    plt.title(\"Loss Curves for Training/Validation Sets\")\n",
    "    plt.xlabel(\"Epoch\")\n",
    "    plt.ylabel(\"Loss\")\n",
    "    plt.legend()\n",
    "    plt.savefig(\"../Loss Curves/\" + figname)"
   ]
  },
  {
   "cell_type": "code",
   "execution_count": null,
   "metadata": {},
   "outputs": [],
   "source": [
    "plot_loss_curves(history1)"
   ]
  },
  {
   "cell_type": "code",
   "execution_count": null,
   "metadata": {},
   "outputs": [],
   "source": [
    "def get_test_cutouts(index, n_cutouts, cutout_size, bands=\"all\", start=0):\n",
    "    n = 0\n",
    "    if bands == \"all\":\n",
    "        sources = np.zeros((n_cutouts, cutout_size, cutout_size, 5))\n",
    "        weights = np.zeros((n_cutouts, cutout_size, cutout_size, 5))\n",
    "        band_indices = [0, 1, 2, 3, 4]\n",
    "    elif bands == \"cfis\":\n",
    "        sources = np.zeros((n_cutouts, cutout_size, cutout_size, 2))\n",
    "        weights = np.zeros((n_cutouts, cutout_size, cutout_size, 2))\n",
    "        band_indices = [0, 2]\n",
    "    else: # PS1\n",
    "        sources = np.zeros((n_cutouts, cutout_size, cutout_size, 3))\n",
    "        weights = np.zeros((n_cutouts, cutout_size, cutout_size, 3))\n",
    "        band_indices = [1, 3, 4]\n",
    "    img_group = hf.get(tile_ids[index] + \"/IMAGES\")\n",
    "    wt_group = hf.get(tile_ids[index] + \"/WEIGHTS\")\n",
    "    for i in range(start, len(img_group)):\n",
    "        sources[n,:,:,:] = np.array(img_group.get(f\"c{i}\"))[:,:,band_indices]\n",
    "        weights[n,:,:,:] = np.array(wt_group.get(f\"c{i}\"))[:,:,band_indices]\n",
    "        n += 1\n",
    "        if n == n_cutouts:\n",
    "            return (sources, weights)"
   ]
  },
  {
   "cell_type": "code",
   "execution_count": null,
   "metadata": {},
   "outputs": [],
   "source": [
    "test_index = 13\n",
    "#sources_test_cfis = get_test_cutouts(test_index, 50, cutout_size, \"cfis\")\n",
    "#sources_test_ps1 = get_test_cutouts(test_index, 50, cutout_size, \"ps1\")\n",
    "(sources_test_all, weights_test_all) = get_test_cutouts(test_index, 50, cutout_size)"
   ]
  },
  {
   "cell_type": "code",
   "execution_count": null,
   "metadata": {},
   "outputs": [],
   "source": [
    "sources_test_all.shape"
   ]
  },
  {
   "cell_type": "code",
   "execution_count": null,
   "metadata": {},
   "outputs": [],
   "source": [
    "decoded_imgs1 = autoencoder1.predict(sources_test)"
   ]
  },
  {
   "cell_type": "code",
   "execution_count": null,
   "metadata": {},
   "outputs": [],
   "source": [
    "def plot_images(images, figname, bands, start=0):\n",
    "    fig, axes = plt.subplots(images.shape[0],len(bands), figsize=(14,8))\n",
    "    fig.subplots_adjust(left=0.02, bottom=0.06, right=0.95, top=0.94, wspace=0.45)\n",
    "    for row in range(images.shape[0]):\n",
    "        for col in range(len(bands)):\n",
    "            norm = ImageNormalize(images[row, start,:,:,col], interval=ZScaleInterval())\n",
    "            im = axes[row][col].imshow(images[row, start,:,:,col], norm=norm)\n",
    "            fig.colorbar(im, fraction=0.045, ax=axes[row][col])\n",
    "            if row == 0:\n",
    "                axes[row][col].set_title(bands[col])\n",
    "    plt.savefig(\"../Plots/\" + figname)"
   ]
  },
  {
   "cell_type": "code",
   "execution_count": null,
   "metadata": {},
   "outputs": [],
   "source": [
    "plot_images(sources_test, start=5)"
   ]
  },
  {
   "cell_type": "code",
   "execution_count": null,
   "metadata": {},
   "outputs": [],
   "source": [
    "plot_images(decoded_imgs1, start=5)"
   ]
  },
  {
   "cell_type": "markdown",
   "metadata": {},
   "source": [
    "## Fully convolutional autoencoder"
   ]
  },
  {
   "cell_type": "code",
   "execution_count": null,
   "metadata": {},
   "outputs": [],
   "source": [
    "def create_autoencoder2(shape):\n",
    "    input_img = keras.Input(shape=shape)\n",
    "    x = keras.layers.Conv2D(16, kernel_size=3, activation='relu', padding='same')(input_img)\n",
    "    x = keras.layers.BatchNormalization()(x)\n",
    "    x = keras.layers.Conv2D(32, kernel_size=3, activation='relu', padding='same')(x)\n",
    "    x = keras.layers.BatchNormalization()(x)\n",
    "\n",
    "    y = keras.layers.Conv2D(32, kernel_size=3, activation='relu', padding='same')(input_img)\n",
    "    y = keras.layers.BatchNormalization()(y)\n",
    "    encoded = keras.layers.Add()([x,y])\n",
    "    \n",
    "    x = keras.layers.Conv2DTranspose(32, kernel_size=4, activation='relu', padding='same')(encoded)\n",
    "    x = keras.layers.Conv2DTranspose(16, kernel_size=4, activation='relu', padding='same')(x)\n",
    "    decoded = keras.layers.Conv2D(shape[2], kernel_size=3, activation='linear', padding='same')(x)\n",
    "    \n",
    "    return keras.Model(input_img, decoded)"
   ]
  },
  {
   "cell_type": "markdown",
   "metadata": {},
   "source": [
    "# Train on all filters"
   ]
  },
  {
   "cell_type": "code",
   "execution_count": null,
   "metadata": {},
   "outputs": [],
   "source": [
    "autoencoder_all = create_autoencoder2((cutout_size, cutout_size, 5))\n",
    "autoencoder_all.compile(optimizer='adam', loss=custom_loss_all)"
   ]
  },
  {
   "cell_type": "code",
   "execution_count": null,
   "metadata": {},
   "outputs": [],
   "source": [
    "autoencoder_all.summary()"
   ]
  },
  {
   "cell_type": "code",
   "execution_count": null,
   "metadata": {},
   "outputs": [],
   "source": [
    "autoencoder_all = keras.models.load_model(\"../Models/autoencoder_64p\", \n",
    "                                          custom_objects={'custom_loss_all': custom_loss_all})"
   ]
  },
  {
   "cell_type": "code",
   "execution_count": null,
   "metadata": {},
   "outputs": [],
   "source": [
    "keras.utils.plot_model(autoencoder_all, to_file='../Models/autoencoder_64p_plot.png', show_shapes=True, show_layer_names=True)"
   ]
  },
  {
   "cell_type": "code",
   "execution_count": null,
   "metadata": {},
   "outputs": [],
   "source": [
    "(autoencoder_all, history_all) = train_autoencoder(autoencoder_all, train_indices, val_indices, n_epochs,\n",
    "                                                   batch_size, cutout_size)\n",
    "autoencoder_all.save(\"../Models/autoencoder_64p\")\n",
    "hist_df = pd.DataFrame(history_all.history) \n",
    "\n",
    "hist_csv_file = '../Histories/history_64p.csv'\n",
    "with open(hist_csv_file, mode='a') as f:\n",
    "    hist_df.to_csv(f)"
   ]
  },
  {
   "cell_type": "code",
   "execution_count": null,
   "metadata": {},
   "outputs": [],
   "source": [
    "history_all = pd.read_csv(hist_csv_file)\n",
    "plot_loss_curves(history_all, figname=\"TenTrainingTiles64p.png\")"
   ]
  },
  {
   "cell_type": "code",
   "execution_count": null,
   "metadata": {},
   "outputs": [],
   "source": [
    "decoded_imgs_all = autoencoder_all.predict(sources_test_all)\n",
    "residuals_all = sources_test_all - decoded_imgs_all"
   ]
  },
  {
   "cell_type": "code",
   "execution_count": null,
   "metadata": {},
   "outputs": [],
   "source": [
    "imgs_all = np.zeros((3, *sources_test_all.shape))\n",
    "imgs_all[0] = sources_test_all\n",
    "imgs_all[1] = decoded_imgs_all\n",
    "imgs_all[2] = residuals_all\n",
    "imgs_all.shape"
   ]
  },
  {
   "cell_type": "code",
   "execution_count": null,
   "metadata": {},
   "outputs": [],
   "source": [
    "tile_ids[test_index]"
   ]
  },
  {
   "cell_type": "code",
   "execution_count": null,
   "metadata": {},
   "outputs": [],
   "source": [
    "bands=[\"CFIS u\", \"PS1 g\", \"CFIS r\", \"PS1 i\", \"PS1 z\"]"
   ]
  },
  {
   "cell_type": "code",
   "execution_count": null,
   "metadata": {},
   "outputs": [],
   "source": [
    "plot_images(imgs_all, \"Cutouts 185.270 c12 64p colorbar.png\", bands=bands, start=15)"
   ]
  },
  {
   "cell_type": "code",
   "execution_count": null,
   "metadata": {},
   "outputs": [],
   "source": [
    "fig, axes = plt.subplots(1,5, figsize=(14,8))\n",
    "fig.subplots_adjust(left=0.02, bottom=0.06, right=0.95, top=0.94, wspace=0.6)\n",
    "start = 14\n",
    "for i in range(5):\n",
    "    norm = ImageNormalize(weights_test_all[start,:,:,i], interval=ZScaleInterval())\n",
    "    im = axes[i].imshow(weights_test_all[start,:,:,i], norm=norm)\n",
    "    fig.colorbar(im, fraction=0.045, ax=axes[i])\n",
    "    axes[i].set_title(bands[i])\n",
    "plt.savefig(f\"../Plots/Weights 185.270 c{start} 64p.png\")"
   ]
  },
  {
   "cell_type": "code",
   "execution_count": null,
   "metadata": {},
   "outputs": [],
   "source": [
    "weights_test_all[6,:,:,0]"
   ]
  },
  {
   "cell_type": "code",
   "execution_count": null,
   "metadata": {},
   "outputs": [],
   "source": [
    "plot_images(decoded_imgs_all, \"Reconstructed Cutouts 185.270 128p.png\", start=5)"
   ]
  },
  {
   "cell_type": "code",
   "execution_count": null,
   "metadata": {},
   "outputs": [],
   "source": [
    "plot_images(residuals_all, \"Residual Cutouts 185.270 128p.png\", start=5)"
   ]
  },
  {
   "cell_type": "code",
   "execution_count": null,
   "metadata": {},
   "outputs": [],
   "source": [
    "def min_max_pixels(images, bands, start=0):\n",
    "    for i in range(len(bands)):\n",
    "        print(bands[i])\n",
    "        print(\"Min pixel value: \" + str(np.min(images[start,:,:,i])))\n",
    "        print(\"Max pixel value: \" + str(np.max(images[start,:,:,i])))\n",
    "        print()"
   ]
  },
  {
   "cell_type": "code",
   "execution_count": null,
   "metadata": {},
   "outputs": [],
   "source": [
    "min_max_pixels(sources_test_all, bands=bands, start=5)"
   ]
  },
  {
   "cell_type": "code",
   "execution_count": null,
   "metadata": {},
   "outputs": [],
   "source": [
    "min_max_pixels(decoded_imgs_all, bands=bands, start=5)"
   ]
  },
  {
   "cell_type": "code",
   "execution_count": null,
   "metadata": {},
   "outputs": [],
   "source": [
    "min_max_pixels(residuals_all, bands=bands, start=5)"
   ]
  },
  {
   "cell_type": "code",
   "execution_count": null,
   "metadata": {},
   "outputs": [],
   "source": [
    "def plot_hist(images, wts, figname, bands, start=0):\n",
    "    fig, axes = plt.subplots(images.shape[0],len(bands), figsize=(20,8))\n",
    "    for row in range(images.shape[0]):\n",
    "        for col in range(len(bands)):\n",
    "            mean = np.mean(images[row,start,:,:,col])\n",
    "            std = np.std(images[row,start,:,:,col])\n",
    "            if row == 2:\n",
    "                x = images[0,start,:,:,col]\n",
    "                xr = images[1,start,:,:,col]\n",
    "                axes[row][col].hist((np.sqrt(wts[start,:,:,col])*(x-xr)).ravel())\n",
    "            else:\n",
    "                axes[row][col].hist(images[row,start,:,:,col].ravel())\n",
    "            axes[row][col].set_ylim(top=4000)\n",
    "            #xlim = axes[row][col].get_xlim()[1]\n",
    "            #ylim = axes[row][col].get_ylim()[1]\n",
    "            #axes[row][col].annotate(r\"$\\mu={:.4f}$\".format(mean), (0.7*xlim, 0.7*ylim))\n",
    "            #axes[row][col].annotate(r\"$\\sigma={:.4f}$\".format(std), (0.7*xlim, 0.6*ylim))\n",
    "            if row == 0:\n",
    "                axes[row][col].set_title(bands[col])\n",
    "    plt.savefig(\"../Histograms/\" + figname)"
   ]
  },
  {
   "cell_type": "code",
   "execution_count": null,
   "metadata": {},
   "outputs": [],
   "source": [
    "plot_hist(imgs_all, weights_test_all, \"Cutouts 185.270 c46 64p weight_res.png\", bands=bands, start=46)"
   ]
  },
  {
   "cell_type": "code",
   "execution_count": null,
   "metadata": {},
   "outputs": [],
   "source": [
    "plot_hist(decoded_imgs_all, \"Reconstructed Cutouts 185.270 128p.png\", start=5)"
   ]
  },
  {
   "cell_type": "code",
   "execution_count": null,
   "metadata": {},
   "outputs": [],
   "source": [
    "plot_hist(residuals_all, \"Residual Cutouts 185.270 128p.png\", start=5)"
   ]
  },
  {
   "cell_type": "markdown",
   "metadata": {},
   "source": [
    "# Train on CFIS filters"
   ]
  },
  {
   "cell_type": "code",
   "execution_count": null,
   "metadata": {},
   "outputs": [],
   "source": [
    "autoencoder_cfis = create_autoencoder2((cutout_size, cutout_size, 2))\n",
    "autoencoder_cfis.compile(optimizer=\"adam\", loss=custom_loss_cfis)"
   ]
  },
  {
   "cell_type": "code",
   "execution_count": null,
   "metadata": {},
   "outputs": [],
   "source": [
    "autoencoder_cfis.summary()"
   ]
  },
  {
   "cell_type": "code",
   "execution_count": null,
   "metadata": {},
   "outputs": [],
   "source": [
    "(autoencoder_cfis, history_cfis) = train_autoencoder(autoencoder_cfis, train_indices, \n",
    "                                                     val_indices, batch_size, cutout_size, bands=\"cfis\")"
   ]
  },
  {
   "cell_type": "code",
   "execution_count": null,
   "metadata": {},
   "outputs": [],
   "source": [
    "plot_loss_curves(history_cfis, figname=\"TenTrainingTilesCFIS.png\")"
   ]
  },
  {
   "cell_type": "code",
   "execution_count": null,
   "metadata": {},
   "outputs": [],
   "source": [
    "decoded_imgs_cfis = autoencoder_cfis.predict(sources_test_cfis)\n",
    "residuals_cfis = sources_test_cfis - decoded_imgs_cfis"
   ]
  },
  {
   "cell_type": "code",
   "execution_count": null,
   "metadata": {},
   "outputs": [],
   "source": [
    "plot_images(sources_test_cfis, \"Test Cutouts 185.270 CFIS.png\", bands=[\"CFIS u\", \"CFIS r\"], start=2)"
   ]
  },
  {
   "cell_type": "code",
   "execution_count": null,
   "metadata": {},
   "outputs": [],
   "source": [
    "plot_images(decoded_imgs_cfis, \"Reconstructed Cutouts 185.270 CFIS.png\", bands=[\"CFIS u\", \"CFIS r\"], start=2)"
   ]
  },
  {
   "cell_type": "code",
   "execution_count": null,
   "metadata": {},
   "outputs": [],
   "source": [
    "plot_images(residuals_cfis, \"Residual Cutouts 185.270 CFIS.png\", bands=[\"CFIS u\", \"CFIS r\"], start=2)"
   ]
  },
  {
   "cell_type": "code",
   "execution_count": null,
   "metadata": {},
   "outputs": [],
   "source": [
    "min_max_pixels(sources_test_cfis, bands=[\"CFIS u\", \"CFIS r\"], start=2)"
   ]
  },
  {
   "cell_type": "code",
   "execution_count": null,
   "metadata": {},
   "outputs": [],
   "source": [
    "min_max_pixels(decoded_imgs_cfis, bands=[\"CFIS u\", \"CFIS r\"], start=2)"
   ]
  },
  {
   "cell_type": "code",
   "execution_count": null,
   "metadata": {},
   "outputs": [],
   "source": [
    "min_max_pixels(residuals_cfis, bands=[\"CFIS u\", \"CFIS r\"], start=2)"
   ]
  },
  {
   "cell_type": "code",
   "execution_count": null,
   "metadata": {},
   "outputs": [],
   "source": [
    "plot_hist(sources_test_cfis, \"Test Cutouts 185.270 CFIS.png\", bands=[\"CFIS u\", \"CFIS r\"], start=2)"
   ]
  },
  {
   "cell_type": "code",
   "execution_count": null,
   "metadata": {},
   "outputs": [],
   "source": [
    "plot_hist(decoded_imgs_cfis, \"Reconstructed Cutouts 185.270 CFIS.png\", bands=[\"CFIS u\", \"PS1 r\"], start=2)"
   ]
  },
  {
   "cell_type": "code",
   "execution_count": null,
   "metadata": {},
   "outputs": [],
   "source": [
    "plot_hist(residuals_cfis, \"Residual Cutouts 185.270 CFIS.png\", bands=[\"CFIS u\", \"CFIS r\"], start=2)"
   ]
  },
  {
   "cell_type": "markdown",
   "metadata": {},
   "source": [
    "# Train on PS1 filters"
   ]
  },
  {
   "cell_type": "code",
   "execution_count": null,
   "metadata": {},
   "outputs": [],
   "source": [
    "autoencoder_ps1 = create_autoencoder2((cutout_size, cutout_size, 3))\n",
    "autoencoder_ps1.compile(optimizer=\"adam\", loss=custom_loss_ps1)"
   ]
  },
  {
   "cell_type": "code",
   "execution_count": null,
   "metadata": {},
   "outputs": [],
   "source": [
    "autoencoder_ps1.summary()"
   ]
  },
  {
   "cell_type": "code",
   "execution_count": null,
   "metadata": {},
   "outputs": [],
   "source": [
    "(autoencoder_ps1, history_ps1) = train_autoencoder(autoencoder_ps1, train_indices, \n",
    "                                                     val_indices, batch_size, cutout_size, bands=\"ps1\")"
   ]
  },
  {
   "cell_type": "code",
   "execution_count": null,
   "metadata": {},
   "outputs": [],
   "source": [
    "plot_loss_curves(history_ps1, figname=\"TenTrainingTilesPS1.png\")"
   ]
  },
  {
   "cell_type": "code",
   "execution_count": null,
   "metadata": {},
   "outputs": [],
   "source": [
    "decoded_imgs_ps1 = autoencoder_ps1.predict(sources_test_ps1)\n",
    "residuals_ps1 = sources_test_ps1 - decoded_imgs_ps1"
   ]
  },
  {
   "cell_type": "code",
   "execution_count": null,
   "metadata": {},
   "outputs": [],
   "source": [
    "plot_images(sources_test_ps1, \"Test Cutouts 185.270 PS1.png\", bands=[\"PS1 g\", \"PS1 i\", \"PS1 z\"], start=5)"
   ]
  },
  {
   "cell_type": "code",
   "execution_count": null,
   "metadata": {},
   "outputs": [],
   "source": [
    "plot_images(decoded_imgs_ps1, \"Reconstructed Cutouts 185.270 PS1.png\", bands=[\"PS1 g\", \"PS1 i\", \"PS1 z\"], start=5)"
   ]
  },
  {
   "cell_type": "code",
   "execution_count": null,
   "metadata": {},
   "outputs": [],
   "source": [
    "plot_images(residuals_ps1, \"Residual Cutouts 185.270 PS1.png\", bands=[\"PS1 g\", \"PS1 i\", \"PS1 z\"], start=5)"
   ]
  },
  {
   "cell_type": "code",
   "execution_count": null,
   "metadata": {},
   "outputs": [],
   "source": [
    "min_max_pixels(sources_test_ps1, bands=[\"PS1 g\", \"PS1 i\", \"PS1 z\"], start=5)"
   ]
  },
  {
   "cell_type": "code",
   "execution_count": null,
   "metadata": {},
   "outputs": [],
   "source": [
    "min_max_pixels(decoded_imgs_ps1, bands=[\"PS1 g\", \"PS1 i\", \"PS1 z\"], start=5)"
   ]
  },
  {
   "cell_type": "code",
   "execution_count": null,
   "metadata": {},
   "outputs": [],
   "source": [
    "min_max_pixels(residuals_ps1, bands=[\"PS1 g\", \"PS1 i\", \"PS1 z\"], start=5)"
   ]
  },
  {
   "cell_type": "code",
   "execution_count": null,
   "metadata": {},
   "outputs": [],
   "source": [
    "plot_hist(sources_test_ps1, \"Test Cutouts 185.270 PS1.png\", bands=[\"PS1 g\", \"PS1 i\", \"PS1 z\"], start=5)"
   ]
  },
  {
   "cell_type": "code",
   "execution_count": null,
   "metadata": {},
   "outputs": [],
   "source": [
    "plot_hist(decoded_imgs_ps1, \"Reconstructed Cutouts 185.270 PS1.png\", bands=[\"PS1 g\", \"PS1 i\", \"PS1 z\"], start=5)"
   ]
  },
  {
   "cell_type": "code",
   "execution_count": null,
   "metadata": {},
   "outputs": [],
   "source": [
    "plot_hist(residuals_ps1, \"Residual Cutouts 185.270 PS1.png\", bands=[\"PS1 g\", \"PS1 i\", \"PS1 z\"], start=5)"
   ]
  },
  {
   "cell_type": "code",
   "execution_count": null,
   "metadata": {},
   "outputs": [],
   "source": [
    "hf.close()"
   ]
  },
  {
   "cell_type": "code",
   "execution_count": null,
   "metadata": {},
   "outputs": [],
   "source": []
  }
 ],
 "metadata": {
  "kernelspec": {
   "display_name": "Python 3",
   "language": "python",
   "name": "python3"
  },
  "language_info": {
   "codemirror_mode": {
    "name": "ipython",
    "version": 3
   },
   "file_extension": ".py",
   "mimetype": "text/x-python",
   "name": "python",
   "nbconvert_exporter": "python",
   "pygments_lexer": "ipython3",
   "version": "3.8.2"
  }
 },
 "nbformat": 4,
 "nbformat_minor": 4
}
